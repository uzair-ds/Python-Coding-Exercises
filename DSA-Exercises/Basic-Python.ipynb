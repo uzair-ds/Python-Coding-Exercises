{
  "cells": [
    {
      "cell_type": "markdown",
      "metadata": {
        "id": "view-in-github",
        "colab_type": "text"
      },
      "source": [
        "<a href=\"https://colab.research.google.com/github/uzair-ds/data-science-exercises/blob/main/dsa_exercises_1.ipynb\" target=\"_parent\"><img src=\"https://colab.research.google.com/assets/colab-badge.svg\" alt=\"Open In Colab\"/></a>"
      ]
    },
    {
      "cell_type": "markdown",
      "metadata": {
        "id": "ao2Cko3YTGs8"
      },
      "source": [
        "# Python Coding Exercise - 1"
      ]
    },
    {
      "cell_type": "markdown",
      "metadata": {
        "id": "CNfvqA5TTVpt"
      },
      "source": [
        "## 1.2 - List"
      ]
    },
    {
      "cell_type": "code",
      "execution_count": null,
      "metadata": {
        "id": "9Q34rHD4TNAg"
      },
      "outputs": [],
      "source": [
        "a = [12,32,2,45,666,321,1.5,1.5,1.5,0.001]"
      ]
    },
    {
      "cell_type": "code",
      "execution_count": null,
      "metadata": {
        "id": "gjHNjGQYHZ0a"
      },
      "outputs": [],
      "source": [
        "a.append(\"NewElement\")"
      ]
    },
    {
      "cell_type": "code",
      "execution_count": null,
      "metadata": {
        "colab": {
          "base_uri": "https://localhost:8080/"
        },
        "id": "oDbkFoXXHjEQ",
        "outputId": "d1b93aeb-4587-4cf4-d0e5-16abdb4e3138"
      },
      "outputs": [
        {
          "output_type": "execute_result",
          "data": {
            "text/plain": [
              "[12, 32, 2, 45, 666, 321, 1.5, 1.5, 1.5, 0.001, 'NewElement']"
            ]
          },
          "metadata": {},
          "execution_count": 3
        }
      ],
      "source": [
        "a"
      ]
    },
    {
      "cell_type": "code",
      "execution_count": null,
      "metadata": {
        "id": "50euXSwoHjZB"
      },
      "outputs": [],
      "source": [
        "a.insert(0,\"InsertedElementAtZeroIndex\")"
      ]
    },
    {
      "cell_type": "code",
      "execution_count": null,
      "metadata": {
        "colab": {
          "base_uri": "https://localhost:8080/"
        },
        "id": "p6Wyr_UHHqIx",
        "outputId": "653487f8-eca7-471f-b00f-ac3081455a87"
      },
      "outputs": [
        {
          "output_type": "execute_result",
          "data": {
            "text/plain": [
              "['InsertedElementAtZeroIndex',\n",
              " 12,\n",
              " 32,\n",
              " 2,\n",
              " 45,\n",
              " 666,\n",
              " 321,\n",
              " 1.5,\n",
              " 1.5,\n",
              " 1.5,\n",
              " 0.001,\n",
              " 'NewElement']"
            ]
          },
          "metadata": {},
          "execution_count": 5
        }
      ],
      "source": [
        "a"
      ]
    },
    {
      "cell_type": "code",
      "execution_count": null,
      "metadata": {
        "colab": {
          "base_uri": "https://localhost:8080/"
        },
        "id": "7hd773v3Hqnz",
        "outputId": "7d2624d5-fd64-40e8-cb4b-2bcae88c22ba"
      },
      "outputs": [
        {
          "output_type": "execute_result",
          "data": {
            "text/plain": [
              "False"
            ]
          },
          "metadata": {},
          "execution_count": 6
        }
      ],
      "source": [
        "\"CheckOne\" in a"
      ]
    },
    {
      "cell_type": "code",
      "execution_count": null,
      "metadata": {
        "colab": {
          "base_uri": "https://localhost:8080/"
        },
        "id": "mwUzaEnSHvW6",
        "outputId": "dab8f374-63a5-4dbe-87ef-9917bc150ed7"
      },
      "outputs": [
        {
          "output_type": "execute_result",
          "data": {
            "text/plain": [
              "3"
            ]
          },
          "metadata": {},
          "execution_count": 7
        }
      ],
      "source": [
        "a.count(1.5) #count number of times 1.5 occured in the list"
      ]
    },
    {
      "cell_type": "code",
      "execution_count": null,
      "metadata": {
        "colab": {
          "base_uri": "https://localhost:8080/"
        },
        "id": "nharq14FHzDT",
        "outputId": "0d55182b-03f1-4f3f-97a1-a000f689121b"
      },
      "outputs": [
        {
          "output_type": "execute_result",
          "data": {
            "text/plain": [
              "7"
            ]
          },
          "metadata": {},
          "execution_count": 8
        }
      ],
      "source": [
        "a.index(1.5) #index of first occuring of 1.5"
      ]
    },
    {
      "cell_type": "code",
      "execution_count": null,
      "metadata": {
        "colab": {
          "base_uri": "https://localhost:8080/"
        },
        "id": "RtCNCErGH5Pc",
        "outputId": "c31fce8b-d540-41e3-8a55-f28bd3739a2e"
      },
      "outputs": [
        {
          "output_type": "execute_result",
          "data": {
            "text/plain": [
              "7"
            ]
          },
          "metadata": {},
          "execution_count": 9
        }
      ],
      "source": [
        "a.index(1.5,5,8)  #index of 1.5 between index 5 to 8"
      ]
    },
    {
      "cell_type": "code",
      "execution_count": null,
      "metadata": {
        "colab": {
          "base_uri": "https://localhost:8080/",
          "height": 56
        },
        "id": "YrzovrGgIRX3",
        "outputId": "89b4b337-20a0-4016-b84c-48474a980113"
      },
      "outputs": [
        {
          "output_type": "execute_result",
          "data": {
            "text/plain": [
              "'NewElement'"
            ],
            "application/vnd.google.colaboratory.intrinsic+json": {
              "type": "string"
            }
          },
          "metadata": {},
          "execution_count": 10
        }
      ],
      "source": [
        "a.pop() #return removed element"
      ]
    },
    {
      "cell_type": "code",
      "execution_count": null,
      "metadata": {
        "colab": {
          "base_uri": "https://localhost:8080/"
        },
        "id": "ZNvpFeIGIZ5i",
        "outputId": "67f59dd2-1801-4e8b-cd20-57d979d27495"
      },
      "outputs": [
        {
          "output_type": "execute_result",
          "data": {
            "text/plain": [
              "['InsertedElementAtZeroIndex', 12, 32, 2, 45, 666, 321, 1.5, 1.5, 1.5, 0.001]"
            ]
          },
          "metadata": {},
          "execution_count": 11
        }
      ],
      "source": [
        "a"
      ]
    },
    {
      "cell_type": "code",
      "execution_count": null,
      "metadata": {
        "id": "xCvAE94hIbec"
      },
      "outputs": [],
      "source": [
        "a.remove(666) #remove element by specific element"
      ]
    },
    {
      "cell_type": "code",
      "execution_count": null,
      "metadata": {
        "id": "9cwW5YxQIgNd"
      },
      "outputs": [],
      "source": []
    },
    {
      "cell_type": "markdown",
      "metadata": {
        "id": "OwKdTRIop0T0"
      },
      "source": [
        "- In python variable or element in list is are stored at different location. - List can dynamically insert and delete items.\n",
        "- Items can be randomly accessed in constant time.\n",
        "- Set and dict has no random access.\n",
        "- In array or list , the items stored in continuous location and these references are already present in cache memory so accessing it easily.\n"
      ]
    },
    {
      "cell_type": "code",
      "execution_count": null,
      "metadata": {
        "id": "dQxqadxYqKrW"
      },
      "outputs": [],
      "source": [
        "def avg_of_list(list1):\n",
        "  n=len(list1)\n",
        "  sum=sum(list1)\n",
        "  avg=sum/n\n",
        "  return avg\n"
      ]
    },
    {
      "cell_type": "code",
      "execution_count": null,
      "metadata": {
        "id": "OF3Oz_lQMB2q"
      },
      "outputs": [],
      "source": [
        "def avg_of_list(list1):\n",
        "  sum=0\n",
        "  for item in list1:\n",
        "    sum=sum+item\n",
        "  n=len(list1)\n",
        "  return sum/n"
      ]
    },
    {
      "cell_type": "code",
      "execution_count": null,
      "metadata": {
        "id": "AM7nNxQCMS25"
      },
      "outputs": [],
      "source": [
        "def separate_odd_even(list1):\n",
        "  even=[]\n",
        "  odd = []\n",
        "  for item in list1:\n",
        "    if item%2==0:\n",
        "      even.append(item)\n",
        "    else:\n",
        "      odd.append(item)\n",
        "  return odd,even"
      ]
    },
    {
      "cell_type": "code",
      "execution_count": null,
      "metadata": {
        "id": "XkRKdQ6TPheo"
      },
      "outputs": [],
      "source": [
        "x1 = [10,41,30,15,80]"
      ]
    },
    {
      "cell_type": "code",
      "execution_count": null,
      "metadata": {
        "colab": {
          "base_uri": "https://localhost:8080/"
        },
        "id": "eVOzFdPTPphJ",
        "outputId": "d25efc58-c6a1-44c7-8b1c-3fd9b09079bc"
      },
      "outputs": [
        {
          "output_type": "execute_result",
          "data": {
            "text/plain": [
              "([41, 15], [10, 30, 80])"
            ]
          },
          "metadata": {},
          "execution_count": 17
        }
      ],
      "source": [
        "separate_odd_even(x1)"
      ]
    },
    {
      "cell_type": "code",
      "execution_count": null,
      "metadata": {
        "id": "4BwBGU0SPsD3"
      },
      "outputs": [],
      "source": [
        "def get_smaller_list(list1,num):\n",
        "  smaller_list = []\n",
        "  for item in list1:\n",
        "    if item<num:\n",
        "      smaller_list.append(item)\n",
        "  return smaller_list"
      ]
    },
    {
      "cell_type": "markdown",
      "source": [
        "### List Comprehension"
      ],
      "metadata": {
        "id": "wmyi6V_kJjyv"
      }
    },
    {
      "cell_type": "code",
      "source": [
        "# create even number list using list comprehension"
      ],
      "metadata": {
        "id": "720bdgKzJaDu"
      },
      "execution_count": null,
      "outputs": []
    },
    {
      "cell_type": "code",
      "source": [
        "even_list = [item for item in range(15) if item%2==0]"
      ],
      "metadata": {
        "id": "LF3GMpQ8Kcos"
      },
      "execution_count": null,
      "outputs": []
    },
    {
      "cell_type": "code",
      "source": [
        "even_list"
      ],
      "metadata": {
        "colab": {
          "base_uri": "https://localhost:8080/"
        },
        "id": "YwlTdJZIKloL",
        "outputId": "afc44669-6cce-40fe-f433-443aed70c259"
      },
      "execution_count": null,
      "outputs": [
        {
          "output_type": "execute_result",
          "data": {
            "text/plain": [
              "[0, 2, 4, 6, 8, 10, 12, 14]"
            ]
          },
          "metadata": {},
          "execution_count": 21
        }
      ]
    },
    {
      "cell_type": "code",
      "source": [
        "odd_list = [item for item in range(15) if item%2!=0]"
      ],
      "metadata": {
        "id": "yE2k27-VKnER"
      },
      "execution_count": null,
      "outputs": []
    },
    {
      "cell_type": "code",
      "source": [
        "odd_list"
      ],
      "metadata": {
        "colab": {
          "base_uri": "https://localhost:8080/"
        },
        "id": "G9uCOCc9KvJi",
        "outputId": "72da586d-58a2-490d-830a-520e5fd7aef1"
      },
      "execution_count": null,
      "outputs": [
        {
          "output_type": "execute_result",
          "data": {
            "text/plain": [
              "[1, 3, 5, 7, 9, 11, 13]"
            ]
          },
          "metadata": {},
          "execution_count": 23
        }
      ]
    },
    {
      "cell_type": "code",
      "source": [],
      "metadata": {
        "id": "itg87KNEKy_6"
      },
      "execution_count": null,
      "outputs": []
    },
    {
      "cell_type": "markdown",
      "source": [
        "### Dictionary Comprehension"
      ],
      "metadata": {
        "id": "wO0DuWyHK4Yo"
      }
    },
    {
      "cell_type": "code",
      "source": [
        "list1= [i for i in range(8)]\n",
        "dict1= {x:x**2 for x in list1}\n",
        "#key is x and value is x**2 and creating from base list1\n",
        "dict1"
      ],
      "metadata": {
        "colab": {
          "base_uri": "https://localhost:8080/"
        },
        "id": "ziSDPExhK7gg",
        "outputId": "cfd51392-4424-4c63-b026-ffb57cf396cc"
      },
      "execution_count": null,
      "outputs": [
        {
          "output_type": "execute_result",
          "data": {
            "text/plain": [
              "{0: 0, 1: 1, 2: 4, 3: 9, 4: 16, 5: 25, 6: 36, 7: 49}"
            ]
          },
          "metadata": {},
          "execution_count": 24
        }
      ]
    },
    {
      "cell_type": "code",
      "source": [
        "dict2 = {x:f\"some_value_for_{x}\" for x in list1}\n",
        "dict2"
      ],
      "metadata": {
        "colab": {
          "base_uri": "https://localhost:8080/"
        },
        "id": "qUXKjDJeLLCG",
        "outputId": "d70bb9d1-1d14-48cc-da96-d4de82f88096"
      },
      "execution_count": null,
      "outputs": [
        {
          "output_type": "execute_result",
          "data": {
            "text/plain": [
              "{0: 'some_value_for_0',\n",
              " 1: 'some_value_for_1',\n",
              " 2: 'some_value_for_2',\n",
              " 3: 'some_value_for_3',\n",
              " 4: 'some_value_for_4',\n",
              " 5: 'some_value_for_5',\n",
              " 6: 'some_value_for_6',\n",
              " 7: 'some_value_for_7'}"
            ]
          },
          "metadata": {},
          "execution_count": 25
        }
      ]
    },
    {
      "cell_type": "code",
      "source": [
        "list1 = [i for i in range(0,10)]\n",
        "list2 = [j for j in range(10,20)]\n",
        "list3 = zip(list1,list2)\n",
        "dict3 = {list1[i]:list2[i] for i in range(10)}\n",
        "dict3"
      ],
      "metadata": {
        "colab": {
          "base_uri": "https://localhost:8080/"
        },
        "id": "nApdChwqLgeH",
        "outputId": "e4347d89-0b88-46dd-b456-cdef33a7074e"
      },
      "execution_count": null,
      "outputs": [
        {
          "output_type": "execute_result",
          "data": {
            "text/plain": [
              "{0: 10, 1: 11, 2: 12, 3: 13, 4: 14, 5: 15, 6: 16, 7: 17, 8: 18, 9: 19}"
            ]
          },
          "metadata": {},
          "execution_count": 26
        }
      ]
    },
    {
      "cell_type": "code",
      "source": [
        "test_list = [23,3,23,45,78,333,21,2,1]"
      ],
      "metadata": {
        "id": "iFORuwfZNj7A"
      },
      "execution_count": null,
      "outputs": []
    },
    {
      "cell_type": "markdown",
      "source": [
        "Get largest element in the list"
      ],
      "metadata": {
        "id": "hFwCfoYfRipz"
      }
    },
    {
      "cell_type": "code",
      "source": [
        "def get_largest_num(test):\n",
        "  for x in test:\n",
        "    for y in test:\n",
        "      if y>x:\n",
        "        break\n",
        "    else:\n",
        "      return x\n",
        "\n",
        "# time complexity = O(n**2)\n",
        "\n"
      ],
      "metadata": {
        "id": "LOFtHd5FLttj"
      },
      "execution_count": null,
      "outputs": []
    },
    {
      "cell_type": "code",
      "source": [
        "get_largest_num(test_list)"
      ],
      "metadata": {
        "colab": {
          "base_uri": "https://localhost:8080/"
        },
        "id": "BK90EwokM58L",
        "outputId": "f2d13fa8-8ebe-43e2-c830-7ef14e89546d"
      },
      "execution_count": null,
      "outputs": [
        {
          "output_type": "execute_result",
          "data": {
            "text/plain": [
              "333"
            ]
          },
          "metadata": {},
          "execution_count": 29
        }
      ]
    },
    {
      "cell_type": "code",
      "source": [
        "# Make Solution Efficient - Time Complexity - O(n)\n",
        "def get_max(test):\n",
        "  max_item=test[0]\n",
        "  for item in range(1,len(test)):\n",
        "    if test[item]>max_item:\n",
        "      max_item = test[item]\n",
        "  return max_item"
      ],
      "metadata": {
        "id": "SMht48uCM-gm"
      },
      "execution_count": null,
      "outputs": []
    },
    {
      "cell_type": "code",
      "source": [
        "get_max(test_list)"
      ],
      "metadata": {
        "colab": {
          "base_uri": "https://localhost:8080/"
        },
        "id": "Ale6NUdIP_dW",
        "outputId": "c5dc75b9-ea32-4392-b8d2-2019db651228"
      },
      "execution_count": null,
      "outputs": [
        {
          "output_type": "execute_result",
          "data": {
            "text/plain": [
              "333"
            ]
          },
          "metadata": {},
          "execution_count": 31
        }
      ]
    },
    {
      "cell_type": "code",
      "source": [],
      "metadata": {
        "id": "t6j4qxqrQey0"
      },
      "execution_count": null,
      "outputs": []
    },
    {
      "cell_type": "markdown",
      "source": [
        "Get Second Largest Element in List"
      ],
      "metadata": {
        "id": "srEWQ_gNRueD"
      }
    },
    {
      "cell_type": "code",
      "source": [
        "def get_second_max(test): # one traveral solution\n",
        "  if len(test)<=1:\n",
        "    return None\n",
        "  max_val = test[0]\n",
        "  second_max = None\n",
        "  for item in test[1:]:\n",
        "    if item > max_val:\n",
        "      second_max = max_val\n",
        "      max_val = item\n",
        "\n",
        "    elif item != max_val:\n",
        "      if second_max == None or second_max < item:\n",
        "        second_max = item\n",
        "  return second_max\n",
        "\n"
      ],
      "metadata": {
        "id": "PIfZQ9jHRxWj"
      },
      "execution_count": null,
      "outputs": []
    },
    {
      "cell_type": "code",
      "source": [
        "get_second_max(test_list)"
      ],
      "metadata": {
        "colab": {
          "base_uri": "https://localhost:8080/"
        },
        "id": "KMx1TxyvR2GJ",
        "outputId": "752c43b7-7186-482f-ee57-30bd0546fff9"
      },
      "execution_count": null,
      "outputs": [
        {
          "output_type": "execute_result",
          "data": {
            "text/plain": [
              "78"
            ]
          },
          "metadata": {},
          "execution_count": 33
        }
      ]
    },
    {
      "cell_type": "markdown",
      "source": [
        "Check if the list is sorted in ascending order"
      ],
      "metadata": {
        "id": "0RV7JBkKzRYX"
      }
    },
    {
      "cell_type": "code",
      "source": [
        "def is_sorted(test):\n",
        "  if len(test)<2:\n",
        "    return True\n",
        "\n",
        "  for item in range(len(test)-1):\n",
        "    if test[item]>test[item+1]:\n",
        "      return False\n",
        "  else:\n",
        "    return True"
      ],
      "metadata": {
        "id": "uKt66mOVzWxl"
      },
      "execution_count": null,
      "outputs": []
    },
    {
      "cell_type": "code",
      "source": [
        "is_sorted([1,2,2,4,5])"
      ],
      "metadata": {
        "colab": {
          "base_uri": "https://localhost:8080/"
        },
        "id": "6uBAU9agz6cW",
        "outputId": "ec5e5220-0b39-432e-c526-6ff384202adc"
      },
      "execution_count": null,
      "outputs": [
        {
          "output_type": "execute_result",
          "data": {
            "text/plain": [
              "True"
            ]
          },
          "metadata": {},
          "execution_count": 35
        }
      ]
    },
    {
      "cell_type": "markdown",
      "source": [
        "Find element in list which is appearing odd no. of times"
      ],
      "metadata": {
        "id": "potL7BJi3iWW"
      }
    },
    {
      "cell_type": "code",
      "source": [
        "def odd_occurence(test): #Simple and Efficient\n",
        "  only_odd = None\n",
        "  for item in test:\n",
        "    occurence = test.count(item)\n",
        "    if occurence%2!=0:\n",
        "      only_odd = item\n",
        "      break\n",
        "  return only_odd"
      ],
      "metadata": {
        "id": "3BZ-jfRL3o5B"
      },
      "execution_count": null,
      "outputs": []
    },
    {
      "cell_type": "code",
      "source": [
        "odd_occurence([10,10,20,20,20,20,30,30,10])"
      ],
      "metadata": {
        "colab": {
          "base_uri": "https://localhost:8080/"
        },
        "id": "C35qo_QI4Y3D",
        "outputId": "d2c7fbb7-22d4-42da-c51f-db7fc83bc581"
      },
      "execution_count": null,
      "outputs": [
        {
          "output_type": "execute_result",
          "data": {
            "text/plain": [
              "10"
            ]
          },
          "metadata": {},
          "execution_count": 37
        }
      ]
    },
    {
      "cell_type": "code",
      "source": [
        "def odd_occurence2(test):\n",
        "  res = 0\n",
        "  for item in test:\n",
        "    res = XOR(res,item)\n",
        "  return res\n",
        "# Using Bitwise Operation\n",
        "\"\"\"\n",
        "  XOR(x,0)=x means if two bits are same then output will be 0 otherwise 1.\n",
        "  XOR(x,x)=0\n",
        "  Using this we can get odd appering element\n",
        " \"\"\""
      ],
      "metadata": {
        "colab": {
          "base_uri": "https://localhost:8080/",
          "height": 73
        },
        "id": "jbppGxJ_4oYU",
        "outputId": "959f0140-c920-4cea-8fde-9113251496e8"
      },
      "execution_count": null,
      "outputs": [
        {
          "output_type": "execute_result",
          "data": {
            "text/plain": [
              "'\\n  XOR(x,0)=x means if two bits are same then output will be 0 otherwise 1.\\n  XOR(x,x)=0\\n  Using this we can get odd appering element\\n '"
            ],
            "application/vnd.google.colaboratory.intrinsic+json": {
              "type": "string"
            }
          },
          "metadata": {},
          "execution_count": 38
        }
      ]
    },
    {
      "cell_type": "code",
      "source": [],
      "metadata": {
        "id": "21PDRlBK5LMb"
      },
      "execution_count": null,
      "outputs": []
    },
    {
      "cell_type": "markdown",
      "source": [
        "Reverse the given list"
      ],
      "metadata": {
        "id": "bM5B81447R4i"
      }
    },
    {
      "cell_type": "code",
      "source": [
        "def reverse_list(test):\n",
        "  reversed = test[::-1]\n",
        "  return reversed"
      ],
      "metadata": {
        "id": "KAYeLHPh7UdX"
      },
      "execution_count": null,
      "outputs": []
    },
    {
      "cell_type": "code",
      "source": [
        "t1 = [\"geeks\",\"ide\",\"coursera\"]\n",
        "t2 = [1,2,3,4,5]"
      ],
      "metadata": {
        "id": "mOix9zrZ7guM"
      },
      "execution_count": null,
      "outputs": []
    },
    {
      "cell_type": "code",
      "source": [
        "reverse_list(t1)"
      ],
      "metadata": {
        "colab": {
          "base_uri": "https://localhost:8080/"
        },
        "id": "GXNPHQtl7rgG",
        "outputId": "bedb1930-c069-4f8b-cb8d-763472dc7e5c"
      },
      "execution_count": null,
      "outputs": [
        {
          "output_type": "execute_result",
          "data": {
            "text/plain": [
              "['coursera', 'ide', 'geeks']"
            ]
          },
          "metadata": {},
          "execution_count": 41
        }
      ]
    },
    {
      "cell_type": "code",
      "source": [
        "def reverse_list1(test):\n",
        "  start = 0\n",
        "  end = len(test)-1\n",
        "  while start < end:\n",
        "    test[start],test[end] = test[end],test[start]\n",
        "    start = start+1\n",
        "    end = end-1\n",
        "    print(test)"
      ],
      "metadata": {
        "id": "Yks4inJx7tVK"
      },
      "execution_count": null,
      "outputs": []
    },
    {
      "cell_type": "code",
      "source": [
        "reverse_list1(t1)"
      ],
      "metadata": {
        "colab": {
          "base_uri": "https://localhost:8080/"
        },
        "id": "yJ_qFVsd8gVe",
        "outputId": "05f8ff41-3657-4cc3-dc25-17619a428046"
      },
      "execution_count": null,
      "outputs": [
        {
          "output_type": "stream",
          "name": "stdout",
          "text": [
            "['coursera', 'ide', 'geeks']\n"
          ]
        }
      ]
    },
    {
      "cell_type": "markdown",
      "source": [
        "Left rotate the list"
      ],
      "metadata": {
        "id": "TeBMNkv_Wh8k"
      }
    },
    {
      "cell_type": "code",
      "source": [
        "def left_rotate(test):\n",
        "  last = test[0]\n",
        "  test = test[1:] + [last]\n",
        "  return test"
      ],
      "metadata": {
        "id": "BaC0lV_z8niD"
      },
      "execution_count": null,
      "outputs": []
    },
    {
      "cell_type": "code",
      "source": [
        "left_rotate([10,20,30,40])"
      ],
      "metadata": {
        "colab": {
          "base_uri": "https://localhost:8080/"
        },
        "id": "lXwTTBhcW3UL",
        "outputId": "99cf3ab3-a5c0-4c55-ecbe-0284dc38ba7c"
      },
      "execution_count": null,
      "outputs": [
        {
          "output_type": "execute_result",
          "data": {
            "text/plain": [
              "[20, 30, 40, 10]"
            ]
          },
          "metadata": {},
          "execution_count": 45
        }
      ]
    },
    {
      "cell_type": "code",
      "source": [
        "def rotate_left(test):\n",
        "  n=len(test)\n",
        "  first =test[0]\n",
        "  for item in range(1,n):\n",
        "    test[item-1]=test[item]\n",
        "  test[n-1]=first\n",
        "  return test"
      ],
      "metadata": {
        "id": "6UPLwv3_W5-E"
      },
      "execution_count": null,
      "outputs": []
    },
    {
      "cell_type": "code",
      "source": [
        "res = rotate_left([10,20,30,40])"
      ],
      "metadata": {
        "id": "nuPrbIZKYEmZ"
      },
      "execution_count": null,
      "outputs": []
    },
    {
      "cell_type": "code",
      "source": [],
      "metadata": {
        "id": "CxkfwVESYOJh"
      },
      "execution_count": null,
      "outputs": []
    },
    {
      "cell_type": "markdown",
      "source": [
        "Left rotate the list by d-places"
      ],
      "metadata": {
        "id": "u6b4oYLaYezD"
      }
    },
    {
      "cell_type": "code",
      "source": [
        "def left_rotate_by_d1(test,d):\n",
        "  test=test[d:] + test[:d]\n",
        "  return test"
      ],
      "metadata": {
        "id": "WRgWd8pLYjlt"
      },
      "execution_count": null,
      "outputs": []
    },
    {
      "cell_type": "code",
      "source": [
        "left_rotate_by_d1(res,2)"
      ],
      "metadata": {
        "colab": {
          "base_uri": "https://localhost:8080/"
        },
        "id": "AAd7rs8VaXCw",
        "outputId": "4d3935c9-3d45-4ebc-843e-7b87b7e03d9c"
      },
      "execution_count": null,
      "outputs": [
        {
          "output_type": "execute_result",
          "data": {
            "text/plain": [
              "[40, 10, 20, 30]"
            ]
          },
          "metadata": {},
          "execution_count": 49
        }
      ]
    },
    {
      "cell_type": "code",
      "source": [
        "def left_rotate_by_d2(test,d): # space complexity is O(nd)\n",
        "  for i in range(d):\n",
        "    test.append(test.pop(0))\n",
        "  return test"
      ],
      "metadata": {
        "id": "zEWC9qMpadFx"
      },
      "execution_count": null,
      "outputs": []
    },
    {
      "cell_type": "code",
      "source": [
        "def left_rotate_by_d3(test,d): # constant auxilary space\n",
        "   n=len(test)\n",
        "   # first rotate first d elements , then reverse the last rest of the element left and the reverse the entire list\n",
        "   first = test[:d][::-1]\n",
        "   second = test[d:][::-1]\n",
        "   x = first + second\n",
        "   return x[::-1]\n",
        "\n"
      ],
      "metadata": {
        "id": "V_NJ0RoyaxXW"
      },
      "execution_count": null,
      "outputs": []
    },
    {
      "cell_type": "code",
      "source": [
        "left_rotate_by_d3([1,2,3,4,5],3)"
      ],
      "metadata": {
        "colab": {
          "base_uri": "https://localhost:8080/"
        },
        "id": "9_YLlZINdV1d",
        "outputId": "654cad09-2b45-4126-edd4-20fe032c60af"
      },
      "execution_count": null,
      "outputs": [
        {
          "output_type": "execute_result",
          "data": {
            "text/plain": [
              "[4, 5, 1, 2, 3]"
            ]
          },
          "metadata": {},
          "execution_count": 52
        }
      ]
    },
    {
      "cell_type": "markdown",
      "source": [
        "## 1.3 - Strings"
      ],
      "metadata": {
        "id": "mq4MaVrl9Kbp"
      }
    },
    {
      "cell_type": "code",
      "source": [],
      "metadata": {
        "id": "07ySkteI9K9D"
      },
      "execution_count": null,
      "outputs": []
    },
    {
      "cell_type": "markdown",
      "source": [
        "\n"
      ],
      "metadata": {
        "id": "48FoajPs9YGH"
      }
    },
    {
      "cell_type": "markdown",
      "source": [
        "For apostrophy s we use \\'s backslash is used for escaping the particular character"
      ],
      "metadata": {
        "id": "8XQdBOa29l4T"
      }
    },
    {
      "cell_type": "code",
      "source": [
        "print(\"Welcome to Uzair\\'s Home\")"
      ],
      "metadata": {
        "colab": {
          "base_uri": "https://localhost:8080/"
        },
        "id": "MpBi1Abe9wvu",
        "outputId": "1b93a6c5-77b9-4753-b6c6-785eef09d946"
      },
      "execution_count": null,
      "outputs": [
        {
          "output_type": "stream",
          "name": "stdout",
          "text": [
            "Welcome to Uzair's Home\n"
          ]
        }
      ]
    },
    {
      "cell_type": "code",
      "source": [],
      "metadata": {
        "id": "_BIFk2DC-LWR"
      },
      "execution_count": null,
      "outputs": []
    },
    {
      "cell_type": "markdown",
      "source": [
        "backslash n is use to print new line"
      ],
      "metadata": {
        "id": "CfDLMQWG-O5z"
      }
    },
    {
      "cell_type": "code",
      "source": [
        "print(\"Hi,\\nThis is new office\")"
      ],
      "metadata": {
        "colab": {
          "base_uri": "https://localhost:8080/"
        },
        "id": "NnrTuf0E-Tpc",
        "outputId": "3505e02e-cc87-4d8c-fe58-bffe205005f1"
      },
      "execution_count": null,
      "outputs": [
        {
          "output_type": "stream",
          "name": "stdout",
          "text": [
            "Hi,\n",
            "This is new office\n"
          ]
        }
      ]
    },
    {
      "cell_type": "code",
      "source": [
        "print(\"\\\\n GoodMorning\")"
      ],
      "metadata": {
        "colab": {
          "base_uri": "https://localhost:8080/"
        },
        "id": "DVo-F7_Y-Wtn",
        "outputId": "6546852c-4987-4148-e691-6de7908890cc"
      },
      "execution_count": null,
      "outputs": [
        {
          "output_type": "stream",
          "name": "stdout",
          "text": [
            "\\n GoodMorning\n"
          ]
        }
      ]
    },
    {
      "cell_type": "code",
      "source": [
        "print(\"\\\\t Good Morning\")"
      ],
      "metadata": {
        "colab": {
          "base_uri": "https://localhost:8080/"
        },
        "id": "_ejEm8ck-gPy",
        "outputId": "056dfef1-7794-4681-e817-be2e76220139"
      },
      "execution_count": null,
      "outputs": [
        {
          "output_type": "stream",
          "name": "stdout",
          "text": [
            "\\t Good Morning\n"
          ]
        }
      ]
    },
    {
      "cell_type": "markdown",
      "source": [
        "Reverse the String"
      ],
      "metadata": {
        "id": "FZ9P6mJR-0Xf"
      }
    },
    {
      "cell_type": "code",
      "source": [
        "test_text = \"The quick brown fox jumps over the lazy dog.\""
      ],
      "metadata": {
        "id": "ivCMupXa-2CR"
      },
      "execution_count": null,
      "outputs": []
    },
    {
      "cell_type": "code",
      "source": [
        "print(test_text[::-1])"
      ],
      "metadata": {
        "colab": {
          "base_uri": "https://localhost:8080/"
        },
        "id": "vc9dAJkr-8_d",
        "outputId": "b3ebd77e-ffd8-4d2e-ef9c-61bf933b141d"
      },
      "execution_count": null,
      "outputs": [
        {
          "output_type": "stream",
          "name": "stdout",
          "text": [
            ".god yzal eht revo spmuj xof nworb kciuq ehT\n"
          ]
        }
      ]
    },
    {
      "cell_type": "markdown",
      "source": [
        "Strings are immutable in python"
      ],
      "metadata": {
        "id": "NIm0VXko_vyy"
      }
    },
    {
      "cell_type": "code",
      "source": [
        "def reverse_text(text):\n",
        "  reversed = \"\"\n",
        "  for item in text:\n",
        "    reversed = item + reversed\n",
        "  print(reversed)\n"
      ],
      "metadata": {
        "id": "0VvrTUDD_xTE"
      },
      "execution_count": null,
      "outputs": []
    },
    {
      "cell_type": "code",
      "source": [
        "reverse_text(text=\"abcd\")"
      ],
      "metadata": {
        "colab": {
          "base_uri": "https://localhost:8080/"
        },
        "id": "eu8biBzoABtZ",
        "outputId": "e92be8ea-60e2-4fe4-c4c8-1cd7cc15ac2f"
      },
      "execution_count": null,
      "outputs": [
        {
          "output_type": "stream",
          "name": "stdout",
          "text": [
            "dcba\n"
          ]
        }
      ]
    },
    {
      "cell_type": "markdown",
      "source": [
        "The unicode representation is used for each character in python. Each character is associated with unicode numeral value.\n",
        "In String , if we compare two string, we do characterwise comparsion S1>S2 etc.\n",
        "The character A to Z are stored from values 65 to 90.\n",
        "The character a to z are stored from 97 to 122."
      ],
      "metadata": {
        "id": "7pGoiM3VAbJE"
      }
    },
    {
      "cell_type": "code",
      "source": [
        "t1 = \"geeksforgeeks\"\n",
        "t2 = \"geeks\""
      ],
      "metadata": {
        "id": "sVGB52T9A8KE"
      },
      "execution_count": null,
      "outputs": []
    },
    {
      "cell_type": "code",
      "source": [
        "print(t1 in t2)"
      ],
      "metadata": {
        "colab": {
          "base_uri": "https://localhost:8080/"
        },
        "id": "Sjy9KOWCB6O8",
        "outputId": "278c9480-26bd-408e-8314-546331015259"
      },
      "execution_count": null,
      "outputs": [
        {
          "output_type": "stream",
          "name": "stdout",
          "text": [
            "False\n"
          ]
        }
      ]
    },
    {
      "cell_type": "code",
      "source": [
        "print(t2 in t1)"
      ],
      "metadata": {
        "colab": {
          "base_uri": "https://localhost:8080/"
        },
        "id": "m8N2-lIyB8Zi",
        "outputId": "1b4913b6-b8d2-4ce4-e36a-ffee19e03430"
      },
      "execution_count": null,
      "outputs": [
        {
          "output_type": "stream",
          "name": "stdout",
          "text": [
            "True\n"
          ]
        }
      ]
    },
    {
      "cell_type": "code",
      "source": [
        "print(t1.index(t2)) # Provide first index of t2 in t1"
      ],
      "metadata": {
        "colab": {
          "base_uri": "https://localhost:8080/"
        },
        "id": "pb-seavjB9Xi",
        "outputId": "6e897324-c68e-45a6-81f3-6fde0dbe0aed"
      },
      "execution_count": null,
      "outputs": [
        {
          "output_type": "stream",
          "name": "stdout",
          "text": [
            "0\n"
          ]
        }
      ]
    },
    {
      "cell_type": "code",
      "source": [
        "# print(t2.index(t1)) # ValueError: substring not found #"
      ],
      "metadata": {
        "id": "tMwn_W7BCI9H"
      },
      "execution_count": null,
      "outputs": []
    },
    {
      "cell_type": "code",
      "source": [
        "\"\"\"\n",
        "string.rindex(substring, start, end)\n",
        "\"\"\"\n"
      ],
      "metadata": {
        "colab": {
          "base_uri": "https://localhost:8080/",
          "height": 56
        },
        "id": "xql28HZ-CLES",
        "outputId": "aa5aa529-84f1-4d2b-f677-5ca32645357c"
      },
      "execution_count": null,
      "outputs": [
        {
          "output_type": "execute_result",
          "data": {
            "text/plain": [
              "'\\nstring.rindex(substring, start, end)\\n'"
            ],
            "application/vnd.google.colaboratory.intrinsic+json": {
              "type": "string"
            }
          },
          "metadata": {},
          "execution_count": 66
        }
      ]
    },
    {
      "cell_type": "code",
      "source": [
        "print(t1.index(t2,6,13)) # starting and ending index of search"
      ],
      "metadata": {
        "colab": {
          "base_uri": "https://localhost:8080/"
        },
        "id": "Hb26ni9dC1Pw",
        "outputId": "e25478c1-6320-4d58-d841-eb16554a63aa"
      },
      "execution_count": null,
      "outputs": [
        {
          "output_type": "stream",
          "name": "stdout",
          "text": [
            "8\n"
          ]
        }
      ]
    },
    {
      "cell_type": "markdown",
      "source": [
        "substring: This is the substring you want to search for within the given string.\n",
        "start (optional): This parameter specifies the starting index from which the search should begin. It is an optional parameter, and if not provided, the search will start from the beginning of the string (index 0).\n",
        "end (optional): This parameter specifies the ending index at which the search should stop. It is also an optional parameter, and if not provided, the search will continue to the end of the string.\n"
      ],
      "metadata": {
        "id": "CLpyR7wIEJIP"
      }
    },
    {
      "cell_type": "code",
      "source": [
        "print(test_text.split()) # split based on white space"
      ],
      "metadata": {
        "colab": {
          "base_uri": "https://localhost:8080/"
        },
        "id": "N70hfwHlEA0d",
        "outputId": "b9244870-26b3-4955-ffcc-7497b856cbd8"
      },
      "execution_count": null,
      "outputs": [
        {
          "output_type": "stream",
          "name": "stdout",
          "text": [
            "['The', 'quick', 'brown', 'fox', 'jumps', 'over', 'the', 'lazy', 'dog.']\n"
          ]
        }
      ]
    },
    {
      "cell_type": "code",
      "source": [
        "print(test_text.split(\".\"))"
      ],
      "metadata": {
        "colab": {
          "base_uri": "https://localhost:8080/"
        },
        "id": "LBOO6lCjFFiv",
        "outputId": "c396fcad-ea9e-4f81-d86b-55df52cb0792"
      },
      "execution_count": null,
      "outputs": [
        {
          "output_type": "stream",
          "name": "stdout",
          "text": [
            "['The quick brown fox jumps over the lazy dog', '']\n"
          ]
        }
      ]
    },
    {
      "cell_type": "code",
      "source": [
        "t3 = \"The quick brown,fox jumps over, the lazy dog\""
      ],
      "metadata": {
        "id": "tQU67oTkFpjE"
      },
      "execution_count": null,
      "outputs": []
    },
    {
      "cell_type": "code",
      "source": [
        "print(t3.split(\",\")) # splitting based on commas"
      ],
      "metadata": {
        "colab": {
          "base_uri": "https://localhost:8080/"
        },
        "id": "0FVjUNiBGNgQ",
        "outputId": "87699ad6-f4cd-4bd6-a434-6e37412d9b20"
      },
      "execution_count": null,
      "outputs": [
        {
          "output_type": "stream",
          "name": "stdout",
          "text": [
            "['The quick brown', 'fox jumps over', ' the lazy dog']\n"
          ]
        }
      ]
    },
    {
      "cell_type": "code",
      "source": [
        "t4 = test_text.split()"
      ],
      "metadata": {
        "id": "zNf3qZcYGQAi"
      },
      "execution_count": null,
      "outputs": []
    },
    {
      "cell_type": "code",
      "source": [
        "\"TT\".join(t4)"
      ],
      "metadata": {
        "colab": {
          "base_uri": "https://localhost:8080/",
          "height": 56
        },
        "id": "lELbHRw7Ghp8",
        "outputId": "c32ffb08-f4a2-41c1-d2b9-916bed03fdda"
      },
      "execution_count": null,
      "outputs": [
        {
          "output_type": "execute_result",
          "data": {
            "text/plain": [
              "'TheTTquickTTbrownTTfoxTTjumpsTToverTTtheTTlazyTTdog.'"
            ],
            "application/vnd.google.colaboratory.intrinsic+json": {
              "type": "string"
            }
          },
          "metadata": {},
          "execution_count": 73
        }
      ]
    },
    {
      "cell_type": "code",
      "source": [
        "t5= \"-y-something--x--\""
      ],
      "metadata": {
        "id": "JV9Hl66LHO-J"
      },
      "execution_count": null,
      "outputs": []
    },
    {
      "cell_type": "code",
      "source": [
        "t5.lstrip()"
      ],
      "metadata": {
        "colab": {
          "base_uri": "https://localhost:8080/",
          "height": 56
        },
        "id": "s0UtPlJ6I7OI",
        "outputId": "1ab5c6e5-a4cf-4893-8237-39ab89055afb"
      },
      "execution_count": null,
      "outputs": [
        {
          "output_type": "execute_result",
          "data": {
            "text/plain": [
              "'-y-something--x--'"
            ],
            "application/vnd.google.colaboratory.intrinsic+json": {
              "type": "string"
            }
          },
          "metadata": {},
          "execution_count": 75
        }
      ]
    },
    {
      "cell_type": "markdown",
      "source": [
        "rstrip(): This method removes characters from the end (right) of a string until it encounters a character that is not in the specified set of characters to strip."
      ],
      "metadata": {
        "id": "aunXMkVxJWcy"
      }
    },
    {
      "cell_type": "code",
      "source": [
        "t2.find(t1)"
      ],
      "metadata": {
        "colab": {
          "base_uri": "https://localhost:8080/"
        },
        "id": "1jabsE79I9pG",
        "outputId": "323bbe20-df48-4d82-fd57-4a45d8c502c0"
      },
      "execution_count": null,
      "outputs": [
        {
          "output_type": "execute_result",
          "data": {
            "text/plain": [
              "-1"
            ]
          },
          "metadata": {},
          "execution_count": 76
        }
      ]
    },
    {
      "cell_type": "code",
      "source": [
        "t1.find(t2)"
      ],
      "metadata": {
        "colab": {
          "base_uri": "https://localhost:8080/"
        },
        "id": "x2WsDdwUJkHT",
        "outputId": "157e267a-695d-4e79-e419-ecb953a4a8f7"
      },
      "execution_count": null,
      "outputs": [
        {
          "output_type": "execute_result",
          "data": {
            "text/plain": [
              "0"
            ]
          },
          "metadata": {},
          "execution_count": 77
        }
      ]
    },
    {
      "cell_type": "code",
      "source": [],
      "metadata": {
        "id": "inxxZ9_bJmhT"
      },
      "execution_count": null,
      "outputs": []
    },
    {
      "cell_type": "markdown",
      "source": [
        "Pattern Searching in Python"
      ],
      "metadata": {
        "id": "YdyiKyRsJr8j"
      }
    },
    {
      "cell_type": "code",
      "source": [
        "t1 = \"AAAAA\"\n",
        "p1 = \"AAA\"\n",
        "t2 = \"geeks for geeks\"\n",
        "p2 = \"geeks\""
      ],
      "metadata": {
        "id": "Op4qqcsoJtv0"
      },
      "execution_count": 3,
      "outputs": []
    },
    {
      "cell_type": "code",
      "source": [
        "def find_pattern(txt,pat):\n",
        "  pos = txt.find(pat)\n",
        "  while pos>=0:\n",
        "    pos=txt.find(pat,pos+1)\n",
        "    print(\"pos\",pos)\n",
        "\n",
        "\n"
      ],
      "metadata": {
        "id": "2v3z8g4CKymc"
      },
      "execution_count": 15,
      "outputs": []
    },
    {
      "cell_type": "code",
      "source": [
        "find_pattern(t1,p1)"
      ],
      "metadata": {
        "colab": {
          "base_uri": "https://localhost:8080/"
        },
        "id": "bNfchdBPgyeh",
        "outputId": "0b897196-3440-47fa-d7d8-e18dceffe43e"
      },
      "execution_count": 16,
      "outputs": [
        {
          "output_type": "stream",
          "name": "stdout",
          "text": [
            "pos 1\n",
            "pos 2\n",
            "pos -1\n"
          ]
        }
      ]
    },
    {
      "cell_type": "code",
      "source": [
        "def find_patterns(t2,p2):\n",
        "  occurrences = []\n",
        "  index = t2.find(p2)\n",
        "\n",
        "  while index != -1:\n",
        "      occurrences.append(index)\n",
        "      index = t2.find(p2, index + 1)\n",
        "  return occurrences"
      ],
      "metadata": {
        "id": "hep7dhZHi8Vx"
      },
      "execution_count": 17,
      "outputs": []
    },
    {
      "cell_type": "markdown",
      "source": [
        "Check Palindrome"
      ],
      "metadata": {
        "id": "eost5aG3j-_R"
      }
    },
    {
      "cell_type": "code",
      "source": [
        "e = 10022001"
      ],
      "metadata": {
        "id": "3t1gSC77kCHA"
      },
      "execution_count": 24,
      "outputs": []
    },
    {
      "cell_type": "code",
      "source": [
        "def check_palindrome(ex):\n",
        "  str_ex = str(ex)\n",
        "  reversed = str_ex[::-1]\n",
        "  if str_ex == reversed:\n",
        "    print(\"It is Palindrome\")\n",
        "  else:\n",
        "    print(\"Not Palindrome\")"
      ],
      "metadata": {
        "id": "qgcJGmykkKAT"
      },
      "execution_count": 34,
      "outputs": []
    },
    {
      "cell_type": "code",
      "source": [
        "check_palindrome(e)"
      ],
      "metadata": {
        "colab": {
          "base_uri": "https://localhost:8080/"
        },
        "id": "XMbHS_-EkXfy",
        "outputId": "054783fb-d2d6-402b-8171-0f617e1597b8"
      },
      "execution_count": 35,
      "outputs": [
        {
          "output_type": "stream",
          "name": "stdout",
          "text": [
            "It is Palindrome\n"
          ]
        }
      ]
    },
    {
      "cell_type": "markdown",
      "source": [
        "Check Anagram"
      ],
      "metadata": {
        "id": "o-9dk1XtlPWk"
      }
    },
    {
      "cell_type": "code",
      "source": [
        "# An anagram is a word or phrase formed by rearranging the letters of another word or phrase"
      ],
      "metadata": {
        "id": "lNs61PJElRqQ"
      },
      "execution_count": 36,
      "outputs": []
    },
    {
      "cell_type": "code",
      "source": [
        "s1 = \"listen\"\n",
        "s2 = \"silent \""
      ],
      "metadata": {
        "id": "vNpUj8I5lbXW"
      },
      "execution_count": 49,
      "outputs": []
    },
    {
      "cell_type": "code",
      "source": [
        "def check_anagram(ex1,ex2):\n",
        "  ex1 = ex1.replace(\" \",\"\").lower()\n",
        "  ex2 = ex2.replace(\" \",\"\").lower()\n",
        "  if sorted(ex1)==sorted(ex2):\n",
        "    print(\"It is anagram\")\n",
        "  else:\n",
        "    print(\"It is not the anagram\")\n",
        ""
      ],
      "metadata": {
        "id": "XWLi0h6HlneA"
      },
      "execution_count": 54,
      "outputs": []
    },
    {
      "cell_type": "code",
      "source": [
        "check_anagram(s1,s2)"
      ],
      "metadata": {
        "colab": {
          "base_uri": "https://localhost:8080/"
        },
        "id": "amof8CDomeXL",
        "outputId": "dd08ecef-d01b-4262-ecd0-7881dfa0b884"
      },
      "execution_count": 55,
      "outputs": [
        {
          "output_type": "stream",
          "name": "stdout",
          "text": [
            "It is anagram\n"
          ]
        }
      ]
    },
    {
      "cell_type": "code",
      "source": [],
      "metadata": {
        "id": "RjeGZdhrmg9n"
      },
      "execution_count": null,
      "outputs": []
    }
  ],
  "metadata": {
    "colab": {
      "provenance": [],
      "authorship_tag": "ABX9TyPjh1LlbigqlPr7ArAIVGKZ",
      "include_colab_link": true
    },
    "kernelspec": {
      "display_name": "Python 3",
      "name": "python3"
    },
    "language_info": {
      "name": "python"
    }
  },
  "nbformat": 4,
  "nbformat_minor": 0
}