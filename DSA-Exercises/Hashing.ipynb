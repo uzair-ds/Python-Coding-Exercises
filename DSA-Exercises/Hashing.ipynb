{
 "cells": [
  {
   "cell_type": "markdown",
   "id": "59d3eb48-c561-4c9b-bfc8-4d16b1c05082",
   "metadata": {},
   "source": [
    "## DSA Exercise-2 "
   ]
  },
  {
   "cell_type": "markdown",
   "id": "5b72c803-4ffb-4458-9814-705bda396730",
   "metadata": {},
   "source": [
    "## Hashing"
   ]
  },
  {
   "cell_type": "markdown",
   "id": "06612a44-5522-403e-a900-e98f161fb30f",
   "metadata": {},
   "source": [
    "### Chaining Operation in Hashing"
   ]
  },
  {
   "cell_type": "code",
   "execution_count": 46,
   "id": "5c944892-dac9-48de-b81d-462c3e75c4af",
   "metadata": {},
   "outputs": [],
   "source": [
    "class MyHash:\n",
    "    def __init__(self,b):\n",
    "        self.BUCKET = b # size of bucket / hash table\n",
    "        self.table = [[] for x in range(b)] # list of list is hash table which will have size of b\n",
    "\n",
    "    def insert(self,x):\n",
    "        i = x % self.BUCKET # i = index of enteries in hash table\n",
    "        self.table[i].append(x)\n",
    "\n",
    "    def remove(self,x):\n",
    "        i = x % self.BUCKET\n",
    "        if x in self.table[i]:  # to avoid error in case of key in not in the hash table\n",
    "            self.table[i].remove(x)\n",
    "\n",
    "    def search(self,x):\n",
    "        i = x% self.BUCKET\n",
    "        return x in self.table[i]"
   ]
  },
  {
   "cell_type": "code",
   "execution_count": 40,
   "id": "0547ec48-572a-4e87-b7fb-26523386b85b",
   "metadata": {},
   "outputs": [],
   "source": [
    "my_hash = MyHash(7) # initialization of MyHash class"
   ]
  },
  {
   "cell_type": "code",
   "execution_count": 41,
   "id": "cb450109-c541-45c8-bf0c-c5cabddd3892",
   "metadata": {},
   "outputs": [],
   "source": [
    "# some keys which we want to have in Hash Table : 70,71,9,56,72"
   ]
  },
  {
   "cell_type": "code",
   "execution_count": 42,
   "id": "38c18d8b-af17-45f7-ad3e-20c9bb72fef5",
   "metadata": {},
   "outputs": [],
   "source": [
    "my_hash.insert(70)\n",
    "my_hash.insert(71)\n",
    "my_hash.insert(9)\n",
    "my_hash.insert(56)\n",
    "my_hash.insert(72)"
   ]
  },
  {
   "cell_type": "code",
   "execution_count": 43,
   "id": "5ae56c7c-aef3-4761-a7d4-9ca1faa51075",
   "metadata": {},
   "outputs": [],
   "source": [
    "my_hash.remove(70)"
   ]
  },
  {
   "cell_type": "code",
   "execution_count": 44,
   "id": "e2e19d42-fac5-4991-a663-5bfda3cc5e4e",
   "metadata": {},
   "outputs": [
    {
     "data": {
      "text/plain": [
       "True"
      ]
     },
     "execution_count": 44,
     "metadata": {},
     "output_type": "execute_result"
    }
   ],
   "source": [
    "my_hash.search(9)"
   ]
  },
  {
   "cell_type": "code",
   "execution_count": 45,
   "id": "df956a9d-83a2-41db-8389-738e8c2664c2",
   "metadata": {},
   "outputs": [
    {
     "data": {
      "text/plain": [
       "False"
      ]
     },
     "execution_count": 45,
     "metadata": {},
     "output_type": "execute_result"
    }
   ],
   "source": [
    "my_hash.search(70)"
   ]
  },
  {
   "cell_type": "markdown",
   "id": "9fea7f89-d206-421f-b607-ce918fc0585c",
   "metadata": {},
   "source": [
    "Note : my_hash.remove(89)\n",
    "ValueError: list.remove(x): x not in list as 89 is not in hash and we tried to remove it so it raised exception"
   ]
  },
  {
   "cell_type": "code",
   "execution_count": 18,
   "id": "e1882d0e-da46-44fc-aced-f1489e61c3d3",
   "metadata": {},
   "outputs": [],
   "source": [
    "class Chaining_HashTable:\n",
    "    def __init__(self,size):\n",
    "        self.size = size\n",
    "        self.table = [[] for item in range(size)]\n",
    "        \n",
    "    def insert(self,x):\n",
    "        index = x% self.size\n",
    "        self.table[index].append(x)\n",
    "        \n",
    "    def remove(self,x):\n",
    "        index = x%self.size\n",
    "        self.table[index].remove(x)\n",
    "\n",
    "    def search(self,x):\n",
    "        index = x%self.size\n",
    "        return x in self.table[index]"
   ]
  },
  {
   "cell_type": "code",
   "execution_count": 19,
   "id": "6524f177-5fe4-48e8-8f9c-abd4879943ca",
   "metadata": {},
   "outputs": [],
   "source": [
    "chaining_hashtable = Chaining_HashTable(5)"
   ]
  },
  {
   "cell_type": "code",
   "execution_count": 20,
   "id": "80054d6a-f452-4456-8dfe-36f8172eb461",
   "metadata": {},
   "outputs": [],
   "source": [
    "chaining_hashtable.insert(23)"
   ]
  },
  {
   "cell_type": "code",
   "execution_count": 21,
   "id": "ab2d5d9e-ac98-477b-9734-8a3c4d02be02",
   "metadata": {},
   "outputs": [],
   "source": [
    "chaining_hashtable.insert(13)"
   ]
  },
  {
   "cell_type": "code",
   "execution_count": 22,
   "id": "2e3ec80d-d323-43b5-9cd2-3a921310f74e",
   "metadata": {},
   "outputs": [
    {
     "data": {
      "text/plain": [
       "True"
      ]
     },
     "execution_count": 22,
     "metadata": {},
     "output_type": "execute_result"
    }
   ],
   "source": [
    "chaining_hashtable.search(23)"
   ]
  },
  {
   "cell_type": "code",
   "execution_count": 23,
   "id": "9a468abc-4967-4946-a1b8-e2fb0955972e",
   "metadata": {},
   "outputs": [],
   "source": [
    "chaining_hashtable.remove(13)"
   ]
  },
  {
   "cell_type": "markdown",
   "id": "cce72f2b-b636-468d-8c04-be908fa8bca7",
   "metadata": {},
   "source": [
    "### Open Addressing "
   ]
  },
  {
   "cell_type": "markdown",
   "id": "41fbba21-0a26-4fdb-9967-6dae353ed13a",
   "metadata": {},
   "source": [
    "#### Linear Probing"
   ]
  },
  {
   "cell_type": "markdown",
   "id": "49de5875-e4f6-42f1-90f1-f24eb5254a12",
   "metadata": {},
   "source": [
    "Open addressing provides a way to handle collisions by storing the collided item in the next available (unoccupied) slot within the hash table, rather than using a separate data structure like linked lists (as in chaining, another collision resolution technique)."
   ]
  },
  {
   "cell_type": "markdown",
   "id": "1560626e-3533-4b4f-a302-b570c06c62ce",
   "metadata": {},
   "source": [
    "In linear probing, you simply move to the next slot (increment the index) in the hash table until you find an empty slot where you can insert the collided key-value pair."
   ]
  },
  {
   "cell_type": "markdown",
   "id": "ac861659-2f70-40fe-a4fe-84567a250d6d",
   "metadata": {},
   "source": [
    "When searching for a key, you continue probing until you either find the key or an empty slot. This linear probing process continues until you reach the end of the table, at which point you wrap around to the beginning."
   ]
  },
  {
   "cell_type": "markdown",
   "id": "685c34f0-91c1-4e3e-adfa-2e1b9335d7d4",
   "metadata": {},
   "source": [
    "#### Quadratic Probing"
   ]
  },
  {
   "cell_type": "markdown",
   "id": "a872b117-9eea-46f1-803c-21ad4c5b62e1",
   "metadata": {},
   "source": [
    "Quadratic Probing: In quadratic probing, instead of linearly incrementing the index, you use a quadratic function to calculate the next index. This can help reduce clustering that occurs with linear probing."
   ]
  },
  {
   "cell_type": "markdown",
   "id": "56087ab2-72b0-4062-8ec4-e1f576d587c2",
   "metadata": {},
   "source": [
    "#### Double Hashing"
   ]
  },
  {
   "cell_type": "markdown",
   "id": "d14639db-6544-4b9e-a9a2-d8a6ad240b1b",
   "metadata": {},
   "source": [
    "Double Hashing: With double hashing, you use a secondary hash function to calculate the step size for probing. This can provide better distribution of keys and help avoid clustering."
   ]
  },
  {
   "cell_type": "code",
   "execution_count": 24,
   "id": "6fd298d4-f6cb-42b5-ab32-9d80a6bf31bb",
   "metadata": {},
   "outputs": [],
   "source": [
    "class LinearProbing_HashTable:\n",
    "    def __init__(self, size):\n",
    "        self.size = size\n",
    "        self.table = [[] for item in range(size)]\n",
    "\n",
    "    def hash(self, key):\n",
    "        index = hash(key) % self.size  # Returns index \n",
    "\n",
    "    def insert(self, key, value):\n",
    "        index = self.hash(key)\n",
    "\n",
    "        while self.table[index] is not None:\n",
    "            if self.table[index][0] == key:\n",
    "                # Key already exists; update the value.\n",
    "                self.table[index] = (key, value)\n",
    "                return\n",
    "            index = (index + 1) % self.size  # Move to the next slot using linear probing.\n",
    "\n",
    "        self.table[index] = (key, value)\n",
    "\n",
    "    def get(self, key):\n",
    "        index = self.hash(key)\n",
    "\n",
    "        while self.table[index] is not None:\n",
    "            if self.table[index][0] == key:\n",
    "                return self.table[index][1]\n",
    "            index = (index + 1) % self.size  # Move to the next slot using linear probing.\n",
    "\n",
    "        # Key not found.\n",
    "        raise KeyError(key)\n",
    "\n",
    "    def delete(self, key):\n",
    "        index = self.hash(key)\n",
    "\n",
    "        while self.table[index] is not None:\n",
    "            if self.table[index][0] == key:\n",
    "                self.table[index] = None\n",
    "                return\n",
    "            index = (index + 1) % self.size  # Move to the next slot using linear probing.\n",
    "\n",
    "        # Key not found.\n",
    "        raise KeyError(key)\n",
    "\n"
   ]
  },
  {
   "cell_type": "code",
   "execution_count": null,
   "id": "612c8846-b0c0-4740-82b1-4f59d3f4106c",
   "metadata": {},
   "outputs": [],
   "source": []
  }
 ],
 "metadata": {
  "kernelspec": {
   "display_name": "Python 3 (ipykernel)",
   "language": "python",
   "name": "python3"
  },
  "language_info": {
   "codemirror_mode": {
    "name": "ipython",
    "version": 3
   },
   "file_extension": ".py",
   "mimetype": "text/x-python",
   "name": "python",
   "nbconvert_exporter": "python",
   "pygments_lexer": "ipython3",
   "version": "3.8.16"
  },
  "widgets": {
   "application/vnd.jupyter.widget-state+json": {
    "state": {},
    "version_major": 2,
    "version_minor": 0
   }
  }
 },
 "nbformat": 4,
 "nbformat_minor": 5
}
