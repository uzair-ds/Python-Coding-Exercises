{
 "cells": [
  {
   "cell_type": "markdown",
   "metadata": {},
   "source": [
    "1768. Merge Strings Alternately"
   ]
  },
  {
   "cell_type": "code",
   "execution_count": 38,
   "metadata": {},
   "outputs": [
    {
     "name": "stdout",
     "output_type": "stream",
     "text": [
      "apbqcrXYXYX\n"
     ]
    }
   ],
   "source": [
    "word1 = \"abcXXX\"\n",
    "word2 = \"pqrYY\"\n",
    "final = [ ]\n",
    "i=j=0\n",
    "while i<len(word1) and j<len(word2):\n",
    "    final.append(word1[i])\n",
    "    final.append(word2[j])\n",
    "    i+=1\n",
    "    j+=1\n",
    "\n",
    "if i< len(word1):\n",
    "    final.append(word1[i:])\n",
    "\n",
    "if j<len(word2):\n",
    "    final.append(word2[j:])\n",
    "\n",
    "\n",
    "print(\"\".join(final))\n"
   ]
  },
  {
   "cell_type": "markdown",
   "metadata": {},
   "source": [
    "1071. Greatest Common Divisor of Strings"
   ]
  },
  {
   "cell_type": "code",
   "execution_count": 45,
   "metadata": {},
   "outputs": [],
   "source": [
    "str1 = \"ABCABC\"\n",
    "str2 = \"ABC\"\n",
    "\n",
    "def gcd(str1,str2):\n",
    "    if str1+str2 != str2+str1:\n",
    "        return \"\"\n",
    "    \n",
    "    a,b=len(str1),len(str2)\n",
    "\n",
    "    while b!=0:\n",
    "        a,b=b,a%b\n",
    "\n",
    "    return str1[:a]\n",
    "\n"
   ]
  },
  {
   "cell_type": "code",
   "execution_count": 46,
   "metadata": {},
   "outputs": [
    {
     "data": {
      "text/plain": [
       "'ABC'"
      ]
     },
     "execution_count": 46,
     "metadata": {},
     "output_type": "execute_result"
    }
   ],
   "source": [
    "gcd(str1=\"ABCABC\",str2=\"ABC\")"
   ]
  },
  {
   "cell_type": "markdown",
   "metadata": {},
   "source": [
    "\n",
    "1431. Kids With the Greatest Number of Candies"
   ]
  },
  {
   "cell_type": "code",
   "execution_count": 54,
   "metadata": {},
   "outputs": [
    {
     "name": "stdout",
     "output_type": "stream",
     "text": [
      "['False', 'True', 'True', 'False', 'True']\n"
     ]
    }
   ],
   "source": [
    "candies = [2,3,5,1,3]\n",
    "extraCandies = 3\n",
    "res = []\n",
    "maxcandies = max(candies)\n",
    "for item in candies:\n",
    "    current_max = item +extraCandies\n",
    "    if current_max > maxcandies:\n",
    "        res.append(\"True\")\n",
    "    else:\n",
    "        res.append(\"False\")\n",
    "print(res)\n"
   ]
  },
  {
   "cell_type": "markdown",
   "metadata": {},
   "source": [
    "605. Can Place Flowers"
   ]
  },
  {
   "cell_type": "code",
   "execution_count": 59,
   "metadata": {},
   "outputs": [
    {
     "name": "stdout",
     "output_type": "stream",
     "text": [
      "True\n"
     ]
    }
   ],
   "source": [
    "flowerbed = [0,1,0]\n",
    "\n",
    "n = 1\n",
    "f = [0] + flowerbed + [0]\n",
    "\n",
    "for item in range(1,len(f)-1):\n",
    "    if f[item-1] == f[item] == f[item+1] ==0:\n",
    "        f[item]==1\n",
    "        n-=1\n",
    "        if n==0:\n",
    "            print(True)\n",
    "print(n>=0)\n"
   ]
  },
  {
   "cell_type": "markdown",
   "metadata": {},
   "source": [
    "345. Reverse Vowels of a String"
   ]
  },
  {
   "cell_type": "code",
   "execution_count": 72,
   "metadata": {},
   "outputs": [
    {
     "name": "stdout",
     "output_type": "stream",
     "text": [
      "True\n"
     ]
    }
   ],
   "source": [
    "s = \"leetcode\"\n",
    "out = \"leotcede\"\n",
    "vowels = {\"a\",\"e\",\"i\",\"o\",\"u\"}\n",
    "s_list = list(s)\n",
    "i=0\n",
    "j=len(s_list)-1\n",
    "while i<j:\n",
    "    if s_list[i] in vowels and s_list[j] in vowels:\n",
    "        s_list[i],s_list[j] = s_list[j],s_list[i]\n",
    "        i+=1\n",
    "        j-=1\n",
    "\n",
    "    if s_list[i] not in vowels:\n",
    "        i += 1\n",
    "\n",
    "    if s_list[j] not in vowels:\n",
    "        j -= 1\n",
    "\n",
    "pred = \"\".join(s_list)\n",
    "\n",
    "print(pred==out)"
   ]
  },
  {
   "cell_type": "markdown",
   "metadata": {},
   "source": [
    "151. Reverse Words in a String"
   ]
  },
  {
   "cell_type": "code",
   "execution_count": 85,
   "metadata": {},
   "outputs": [],
   "source": [
    "s = \"the sky is blue\"\n",
    "out =  \"blue is sky the\"\n",
    "\n",
    "s_list = s.strip().split()"
   ]
  },
  {
   "cell_type": "code",
   "execution_count": 86,
   "metadata": {},
   "outputs": [
    {
     "name": "stdout",
     "output_type": "stream",
     "text": [
      "blue is sky the\n"
     ]
    }
   ],
   "source": [
    "i=0\n",
    "j=len(s_list)-1\n",
    "\n",
    "while i<j:\n",
    "    s_list[i],s_list[j]=s_list[j],s_list[i]\n",
    "    i=i+1\n",
    "    j=j-1\n",
    "print(\" \".join(s_list))\n",
    "\n",
    "\n",
    "\n"
   ]
  },
  {
   "cell_type": "markdown",
   "metadata": {},
   "source": [
    "238. Product of Array Except Self"
   ]
  },
  {
   "cell_type": "code",
   "execution_count": 87,
   "metadata": {},
   "outputs": [],
   "source": [
    "nums = [1,2,3,4]\n",
    "out= [24,12,8,6]"
   ]
  },
  {
   "cell_type": "code",
   "execution_count": 90,
   "metadata": {},
   "outputs": [
    {
     "name": "stdout",
     "output_type": "stream",
     "text": [
      "[24, 12, 8, 6]\n"
     ]
    }
   ],
   "source": [
    "n=len(nums)\n",
    "\n",
    "left_prod = [1]*n\n",
    "right_prod = [1]*n\n",
    "out_prod = [1]*n\n",
    "\n",
    "for item in range(1,n):\n",
    "    left_prod[item] = left_prod[item-1]*nums[item-1]\n",
    "\n",
    "for item in range(n-2,-1,-1):\n",
    "    right_prod[item]=right_prod[item+1]*nums[item+1]\n",
    "\n",
    "for item in range(n):\n",
    "    out_prod[item]=left_prod[item]*right_prod[item]\n",
    "\n",
    "print(out_prod)\n"
   ]
  },
  {
   "cell_type": "code",
   "execution_count": 92,
   "metadata": {},
   "outputs": [
    {
     "name": "stdout",
     "output_type": "stream",
     "text": [
      "4\n",
      "3\n",
      "2\n",
      "1\n",
      "0\n"
     ]
    }
   ],
   "source": [
    "n=5\n",
    "for i in range(n-1,-1,-1):\n",
    "    print(i)"
   ]
  },
  {
   "cell_type": "markdown",
   "metadata": {},
   "source": [
    "334. Increasing Triplet Subsequence"
   ]
  },
  {
   "cell_type": "code",
   "execution_count": 98,
   "metadata": {},
   "outputs": [
    {
     "name": "stdout",
     "output_type": "stream",
     "text": [
      "False\n"
     ]
    }
   ],
   "source": [
    "nums = [5,4,3,2,1]\n",
    "\n",
    "first = float(\"inf\")\n",
    "second = float(\"inf\")\n",
    "\n",
    "for item in nums:\n",
    "    if item<=first:\n",
    "        first = item\n",
    "    elif item<=second:\n",
    "        second = item\n",
    "    else:\n",
    "        print(True)\n",
    "print(False)\n",
    "    \n",
    "\n"
   ]
  },
  {
   "cell_type": "markdown",
   "metadata": {},
   "source": [
    "443. String Compression"
   ]
  },
  {
   "cell_type": "markdown",
   "metadata": {},
   "source": [
    "https://www.youtube.com/watch?v=uBHZbKZfBfY\n"
   ]
  },
  {
   "cell_type": "code",
   "execution_count": 13,
   "metadata": {},
   "outputs": [
    {
     "name": "stdout",
     "output_type": "stream",
     "text": [
      "['a', '2', 'b', '2', 'c', '3', 't']\n"
     ]
    }
   ],
   "source": [
    "chars = [\"a\",\"a\",\"b\",\"b\",\"c\",\"c\",\"c\",\"t\"]\n",
    "\n",
    "left,right=0,0\n",
    "\n",
    "while right<len(chars):\n",
    "    current_char = chars[right]\n",
    "    count = 1\n",
    "    while right<len(chars)-1 and chars[right+1]==current_char:\n",
    "        right=right+1\n",
    "        count=count+1\n",
    "\n",
    "    chars[left]=current_char\n",
    "    left = left+1\n",
    "    if count>1:\n",
    "        for digit in str(count):\n",
    "            chars[left]=digit\n",
    "            left=left+1\n",
    "    \n",
    "    right=right+1\n",
    "\n",
    "print(chars[:left])\n"
   ]
  },
  {
   "cell_type": "markdown",
   "metadata": {},
   "source": [
    "283. Move Zeroes"
   ]
  },
  {
   "cell_type": "code",
   "execution_count": 18,
   "metadata": {},
   "outputs": [
    {
     "name": "stdout",
     "output_type": "stream",
     "text": [
      "[1, 3, 12, 0, 0]\n"
     ]
    }
   ],
   "source": [
    "nums = [0,1,0,3,12]\n",
    "out = [1,3,12,0,0]\n",
    "\n",
    "left=0\n",
    "\n",
    "for right in range(len(nums)):\n",
    "    if nums[right]!=0:\n",
    "        nums[left],nums[right]=nums[right],nums[left]\n",
    "        left = left+1\n",
    "\n",
    "print(nums)"
   ]
  },
  {
   "cell_type": "markdown",
   "metadata": {},
   "source": [
    "392. Is Subsequence"
   ]
  },
  {
   "cell_type": "code",
   "execution_count": 25,
   "metadata": {},
   "outputs": [
    {
     "name": "stdout",
     "output_type": "stream",
     "text": [
      "True\n"
     ]
    }
   ],
   "source": [
    "s = \"abc\"\n",
    "t = \"ahbgdc\"\n",
    "\n",
    "\n",
    "i=j=0\n",
    "\n",
    "while i<len(s) and j<len(t):\n",
    "    if s[i]==t[j]:\n",
    "        i=i+1\n",
    "    j=j+1\n",
    "print(i==len(s))\n",
    "    "
   ]
  },
  {
   "cell_type": "markdown",
   "metadata": {},
   "source": [
    "11. Container With Most Water"
   ]
  },
  {
   "cell_type": "code",
   "execution_count": 33,
   "metadata": {},
   "outputs": [
    {
     "name": "stdout",
     "output_type": "stream",
     "text": [
      "49\n"
     ]
    }
   ],
   "source": [
    "height = [1,8,6,2,5,4,8,3,7]\n",
    "\n",
    "max_area = 0\n",
    "left = 0\n",
    "right= len(height)-1\n",
    "\n",
    "while left<right:\n",
    "    min_height = min(height[left],height[right])\n",
    "    width = right-left\n",
    "    area = width * min_height \n",
    "    max_area = max(area,max_area)\n",
    "    \n",
    "    if height[left]<height[right]:\n",
    "        left=left+1\n",
    "    else:\n",
    "        right=right-1\n",
    "\n",
    "print(max_area)\n"
   ]
  },
  {
   "cell_type": "markdown",
   "metadata": {},
   "source": [
    "1679. Max Number of K-Sum Pairs"
   ]
  },
  {
   "cell_type": "code",
   "execution_count": 36,
   "metadata": {},
   "outputs": [
    {
     "name": "stdout",
     "output_type": "stream",
     "text": [
      "2\n"
     ]
    }
   ],
   "source": [
    "nums = [1,2,3,4]\n",
    "k = 5\n",
    "res = []\n",
    "\n",
    "left=0\n",
    "right=len(nums)-1\n",
    "operation_count = 0\n",
    "\n",
    "nums.sort()\n",
    "while left<right:\n",
    "    total = nums[left]+nums[right]\n",
    "    if total==k:\n",
    "        operation_count+=1\n",
    "        left=left+1\n",
    "        right=right-1\n",
    "    elif total<k:\n",
    "        left+=1\n",
    "    else:\n",
    "        right-=1\n",
    "\n",
    "print(operation_count)\n"
   ]
  },
  {
   "cell_type": "markdown",
   "metadata": {},
   "source": [
    "Problem : Two Sum"
   ]
  },
  {
   "cell_type": "code",
   "execution_count": 39,
   "metadata": {},
   "outputs": [
    {
     "name": "stdout",
     "output_type": "stream",
     "text": [
      "0 1\n"
     ]
    }
   ],
   "source": [
    "nums = [2, 7, 11, 15]\n",
    "k = 9\n",
    "\n",
    "\n",
    "index_to_val_map = {}\n",
    "\n",
    "for item in range(len(nums)):\n",
    "    num = nums[item]\n",
    "    complement = k-num\n",
    "    if complement in index_to_val_map:\n",
    "        print(index_to_val_map[complement],item)\n",
    "    else:\n",
    "        index_to_val_map[num]=item\n",
    "    "
   ]
  },
  {
   "cell_type": "markdown",
   "metadata": {},
   "source": [
    "643. Maximum Average Subarray I"
   ]
  },
  {
   "cell_type": "code",
   "execution_count": 45,
   "metadata": {},
   "outputs": [
    {
     "name": "stdout",
     "output_type": "stream",
     "text": [
      "12.75\n"
     ]
    }
   ],
   "source": [
    "nums = [1,12,-5,-6,50,3]\n",
    "k = 4\n",
    "n=len(nums)\n",
    "cur_winsum = sum(nums[:k])\n",
    "max_sum = cur_winsum\n",
    "\n",
    "for item in range(k,len(nums)):\n",
    "    cur_winsum = cur_winsum + nums[item] -  nums[item-k]\n",
    "    max_sum = max(max_sum,cur_winsum)\n",
    "\n",
    "print(max_sum/k)\n",
    "\n"
   ]
  },
  {
   "cell_type": "markdown",
   "metadata": {},
   "source": [
    "1456. Maximum Number of Vowels in a Substring of Given Length"
   ]
  },
  {
   "cell_type": "code",
   "execution_count": 46,
   "metadata": {},
   "outputs": [
    {
     "name": "stdout",
     "output_type": "stream",
     "text": [
      "3\n"
     ]
    }
   ],
   "source": [
    "s = \"abciiidef\"\n",
    "k = 3\n",
    "vowels = {\"a\",\"e\",\"i\",\"o\",\"u\"}\n",
    "count=0\n",
    "ss = s[:k]\n",
    "for i in ss:\n",
    "    if i in vowels:\n",
    "        count = count+1\n",
    "\n",
    "cur_vowel_count = count\n",
    "max_vowels_count = cur_vowel_count\n",
    "\n",
    "for item in range(k,len(s)):\n",
    "    if s[item-k] in vowels:\n",
    "        cur_vowel_count=cur_vowel_count-1\n",
    "    \n",
    "    if s[item] in vowels:\n",
    "        cur_vowel_count+=1\n",
    "    \n",
    "    max_vowels_count=max(cur_vowel_count,max_vowels_count)\n",
    "\n",
    "print(max_vowels_count)\n",
    "\n",
    "\n"
   ]
  },
  {
   "cell_type": "markdown",
   "metadata": {},
   "source": [
    "1004. Max Consecutive Ones III"
   ]
  },
  {
   "cell_type": "code",
   "execution_count": 48,
   "metadata": {},
   "outputs": [
    {
     "name": "stdout",
     "output_type": "stream",
     "text": [
      "6\n"
     ]
    }
   ],
   "source": [
    "nums = [1,1,1,0,0,0,1,1,1,1,0]\n",
    "k = 2\n",
    "\n",
    "max_len  = 0\n",
    "zero_count = 0\n",
    "left =0\n",
    "\n",
    "for right in range(len(nums)):\n",
    "    if nums[right]==0:\n",
    "        zero_count+=1\n",
    "    \n",
    "    while zero_count>k:\n",
    "        if nums[left]==0:\n",
    "            zero_count-=1\n",
    "        left+=1\n",
    "    \n",
    "    max_len = max(max_len,right-left+1)\n",
    "\n",
    "print(max_len)"
   ]
  },
  {
   "cell_type": "markdown",
   "metadata": {},
   "source": [
    "1493. Longest Subarray of 1's After Deleting One Element"
   ]
  },
  {
   "cell_type": "code",
   "execution_count": 49,
   "metadata": {},
   "outputs": [],
   "source": [
    "nums = [0,1,1,1,0,1,1,0,1]\n",
    "\n",
    "left = 0\n",
    "max_len = 0\n",
    "ones_count = 0\n",
    "\n",
    "for right in range(len(nums)):\n",
    "    if nums[right]==0:\n",
    "        ones_count+=1\n",
    "\n",
    "    while ones_count>1:\n",
    "        if nums[left]==0:\n",
    "            ones_count-=1\n",
    "        left +=1\n",
    "\n",
    "    max_len= max(max_len, right-left)\n"
   ]
  },
  {
   "cell_type": "markdown",
   "metadata": {},
   "source": [
    "1732. Find the Highest Altitude"
   ]
  },
  {
   "cell_type": "code",
   "execution_count": 51,
   "metadata": {},
   "outputs": [
    {
     "name": "stdout",
     "output_type": "stream",
     "text": [
      "1\n"
     ]
    }
   ],
   "source": [
    "gain = [-5,1,5,0,-7]\n",
    "\n",
    "cur_alt = 0\n",
    "max_alt = 0\n",
    "\n",
    "for g in gain:\n",
    "    cur_alt +=g\n",
    "    max_alt = max(cur_alt,max_alt)\n",
    "\n",
    "print(max_alt)"
   ]
  },
  {
   "cell_type": "markdown",
   "metadata": {},
   "source": [
    "724. Find Pivot Index"
   ]
  },
  {
   "cell_type": "code",
   "execution_count": 60,
   "metadata": {},
   "outputs": [
    {
     "name": "stdout",
     "output_type": "stream",
     "text": [
      "-1\n"
     ]
    }
   ],
   "source": [
    "nums =  [1,2,3]\n",
    "\n",
    "total_sum = sum(nums)\n",
    "left_sum = 0\n",
    "\n",
    "for item in range(len(nums)):\n",
    "    right_sum = total_sum-left_sum-nums[item]\n",
    "    if left_sum==right_sum:\n",
    "        print(item)\n",
    "    left_sum+=nums[item]\n",
    "print(-1)"
   ]
  },
  {
   "cell_type": "markdown",
   "metadata": {},
   "source": [
    "2215. Find the Difference of Two Arrays"
   ]
  },
  {
   "cell_type": "code",
   "execution_count": 62,
   "metadata": {},
   "outputs": [
    {
     "name": "stdout",
     "output_type": "stream",
     "text": [
      "[[1, 3], [4, 6]]\n"
     ]
    }
   ],
   "source": [
    "nums1 = [1,2,3]\n",
    "nums2 = [2,4,6]\n",
    "\n",
    "n1=set(nums1)\n",
    "n2=set(nums2)\n",
    "\n",
    "print([list(n1-n2),list(n2-n1)])\n",
    "\n"
   ]
  },
  {
   "cell_type": "markdown",
   "metadata": {},
   "source": [
    "1207. Unique Number of Occurrences"
   ]
  },
  {
   "cell_type": "code",
   "execution_count": 72,
   "metadata": {},
   "outputs": [
    {
     "name": "stdout",
     "output_type": "stream",
     "text": [
      "False\n"
     ]
    }
   ],
   "source": [
    "arr = [1,2]\n",
    "\n",
    "arr_set =set(arr)\n",
    "counts = []\n",
    "\n",
    "for item in arr_set:\n",
    "    val = arr.count(item)\n",
    "    counts.append(val)\n",
    "\n",
    "print(len(set(counts))==len(arr_set))\n",
    "    \n",
    "    \n",
    "    "
   ]
  },
  {
   "cell_type": "markdown",
   "metadata": {},
   "source": [
    "1657. Determine if Two Strings Are Close"
   ]
  },
  {
   "cell_type": "markdown",
   "metadata": {},
   "source": [
    "Two strings are considered close if you can attain one from the other using the following operations:\n",
    "\n",
    "Operation 1: Swap any two existing characters.\n",
    "For example, abcde -> aecdb\n",
    "Operation 2: Transform every occurrence of one existing character into another existing character, and do the same with the other character.\n",
    "For example, aacabb -> bbcbaa (all a's turn into b's, and all b's turn into a's)\n",
    "You can use the operations on either string as many times as necessary.\n",
    "\n",
    "Given two strings, word1 and word2, return true if word1 and word2 are close, and false otherwise."
   ]
  },
  {
   "cell_type": "code",
   "execution_count": 73,
   "metadata": {},
   "outputs": [
    {
     "name": "stdout",
     "output_type": "stream",
     "text": [
      "True\n"
     ]
    }
   ],
   "source": [
    "word1 = \"abc\"\n",
    "word2 = \"bca\"\n",
    "\n",
    "if len(word1)!=len(word2):\n",
    "    print(False)\n",
    "\n",
    "f1={}\n",
    "f2={}\n",
    "\n",
    "for i in word1:\n",
    "    if i in f1:\n",
    "        f1[i]+=1\n",
    "    else:\n",
    "        f1[i]=1\n",
    "\n",
    "for i in word2:\n",
    "    if i in f2:\n",
    "        f2[i]+=1\n",
    "    else:\n",
    "        f2[i]=1\n",
    "\n",
    "\n",
    "if set(f1.keys()) != set(f2.keys()):\n",
    "    print(False)\n",
    "\n",
    "if sorted(f1.values()) != sorted(f2.values()):\n",
    "    print(False)\n",
    "\n",
    "print(True)"
   ]
  },
  {
   "cell_type": "markdown",
   "metadata": {},
   "source": [
    "2352. Equal Row and Column Pairs"
   ]
  },
  {
   "cell_type": "code",
   "execution_count": 79,
   "metadata": {},
   "outputs": [],
   "source": [
    "grid = [[3,2,1],[1,7,6],[2,7,7]]\n",
    "\n",
    "n= len(grid)\n",
    "columns = []\n",
    "count = 0\n",
    "for c in range(n):\n",
    "    column = []\n",
    "    for r in range(n):\n",
    "        column.append(grid[r][c])\n",
    "    columns.append(column)\n",
    "\n",
    "\n",
    "for row in grid:\n",
    "    for col in columns:\n",
    "        if row==col:\n",
    "            count+=1\n"
   ]
  },
  {
   "cell_type": "code",
   "execution_count": 78,
   "metadata": {},
   "outputs": [
    {
     "data": {
      "text/plain": [
       "[[3, 1, 2], [2, 7, 7], [1, 6, 7]]"
      ]
     },
     "execution_count": 78,
     "metadata": {},
     "output_type": "execute_result"
    }
   ],
   "source": [
    "columns"
   ]
  },
  {
   "cell_type": "markdown",
   "metadata": {},
   "source": [
    "2390. Removing Stars From a String"
   ]
  },
  {
   "cell_type": "code",
   "execution_count": 80,
   "metadata": {},
   "outputs": [
    {
     "name": "stdout",
     "output_type": "stream",
     "text": [
      "lecoe\n"
     ]
    }
   ],
   "source": [
    "s = \"leet**cod*e\"\n",
    "res = []\n",
    "\n",
    "for item in s:\n",
    "    if item==\"*\":\n",
    "        res.pop()\n",
    "    else:\n",
    "        res.append(item)\n",
    "\n",
    "print(\"\".join(res))"
   ]
  },
  {
   "cell_type": "markdown",
   "metadata": {},
   "source": [
    "735. Asteroid Collision"
   ]
  },
  {
   "cell_type": "markdown",
   "metadata": {},
   "source": [
    "We are given an array asteroids of integers representing asteroids in a row.\n",
    "\n",
    "For each asteroid, the absolute value represents its size, and the sign represents its direction (positive meaning right, negative meaning left). Each asteroid moves at the same speed.\n",
    "\n",
    "Find out the state of the asteroids after all collisions. If two asteroids meet, the smaller one will explode. If both are the same size, both will explode. Two asteroids moving in the same direction will never meet."
   ]
  },
  {
   "cell_type": "code",
   "execution_count": null,
   "metadata": {},
   "outputs": [],
   "source": [
    "asteroids = [5,10,-5]\n",
    "\n",
    "\n",
    "\n"
   ]
  },
  {
   "cell_type": "markdown",
   "metadata": {},
   "source": [
    "#### Check if number is prime "
   ]
  },
  {
   "cell_type": "code",
   "execution_count": 1,
   "metadata": {},
   "outputs": [],
   "source": [
    "# prime number\n",
    "def check_prime(n):\n",
    "    for item in range(2,int((n)**(0.5))+1):\n",
    "        if n%item==0:\n",
    "            print(\"not prime\")\n",
    "        else:\n",
    "            print('prime')\n"
   ]
  },
  {
   "cell_type": "markdown",
   "metadata": {},
   "source": [
    "#### Fibonacci Series "
   ]
  },
  {
   "cell_type": "code",
   "execution_count": 2,
   "metadata": {},
   "outputs": [
    {
     "name": "stdout",
     "output_type": "stream",
     "text": [
      "[0, 1, 1, 2, 3, 5, 8, 13]\n"
     ]
    }
   ],
   "source": [
    "a,b = 0,1\n",
    "fib_series = []\n",
    "for item in range(2,10):\n",
    "    fib_series.append(a)\n",
    "    a,b=b,a+b\n",
    "print(fib_series)\n"
   ]
  },
  {
   "cell_type": "markdown",
   "metadata": {},
   "source": [
    "#### 88 . Merge Sorted Array I\n",
    "You are given two integer arrays nums1 and nums2, sorted in non-decreasing order, and two integers m and n, representing the number of elements in nums1 and nums2 respectively.\n",
    "\n",
    "Merge nums1 and nums2 into a single array sorted in non-decreasing order.\n",
    "The final sorted array should not be returned by the function, but instead be stored inside the array nums1. To accommodate this, nums1 has a length of m + n, where the first m elements denote the elements that should be merged, and the last n elements are set to 0 and should be ignored. nums2 has a length of n.\n",
    "Input: nums1 = [1,2,3,0,0,0], m = 3, nums2 = [2,5,6], n = 3\n",
    "Output: [1,2,2,3,5,6]\n",
    "Explanation: The arrays we are merging are [1,2,3] and [2,5,6].\n",
    "The result of the merge is [1,2,2,3,5,6] with the underlined elements coming from nums1."
   ]
  },
  {
   "cell_type": "code",
   "execution_count": 5,
   "metadata": {},
   "outputs": [],
   "source": [
    "\n",
    "class Solution:\n",
    "    def merge(self, nums1, a: int, nums2, b: int) -> None:\n",
    "        \"\"\"\n",
    "        Do not return anything, modify nums1 in-place instead.\n",
    "        \"\"\"\n",
    "        m = a-1\n",
    "        n = b-1\n",
    "        last = a+b-1\n",
    "        while m>=0 and n>=0:\n",
    "            if nums1[m]>nums2[n]:\n",
    "                nums1[last]=nums1[m]\n",
    "                m=m-1\n",
    "            else:\n",
    "                nums1[last]=nums2[n]\n",
    "                n=n-1\n",
    "            last = last-1\n",
    "        while n>=0:\n",
    "            nums1[last]=nums2[n]\n",
    "            n=n-1\n",
    "            last=last-1"
   ]
  },
  {
   "cell_type": "markdown",
   "metadata": {},
   "source": [
    "27. Remove Element from list "
   ]
  },
  {
   "cell_type": "code",
   "execution_count": 6,
   "metadata": {},
   "outputs": [
    {
     "name": "stdout",
     "output_type": "stream",
     "text": [
      "[0, 1, 3, 0, 4, 2]\n"
     ]
    }
   ],
   "source": [
    "nums = [0,1,2,2,3,0,4,2]\n",
    "\n",
    "val = 2\n",
    "\n",
    "for item in nums:\n",
    "  if item==val:\n",
    "    nums.remove(item)\n",
    "print(nums)"
   ]
  },
  {
   "cell_type": "code",
   "execution_count": 7,
   "metadata": {},
   "outputs": [],
   "source": [
    "def removeElement(nums,val):\n",
    "  res = []\n",
    "  for item in nums:\n",
    "      if item!=val:\n",
    "          res.append(item)\n",
    "  nums[:]=res\n",
    "  print(nums)"
   ]
  },
  {
   "cell_type": "markdown",
   "metadata": {},
   "source": [
    "#### 26. Remove Duplicates From Array I\n",
    "\n",
    "\n",
    "\n",
    "Given an integer array nums sorted in non-decreasing order, remove the duplicates in-place such that each unique element appears only once. The relative order of the elements should be kept the same. Then return the number of unique elements in nums.\n",
    "\n",
    "Consider the number of unique elements of nums to be k, to get accepted, you need to do the following things:\n",
    "\n",
    "Change the array nums such that the first k elements of nums contain the unique elements in the order they were present in nums initially. The remaining elements of nums are not important as well as the size of nums.\n",
    "Return k."
   ]
  },
  {
   "cell_type": "code",
   "execution_count": 9,
   "metadata": {},
   "outputs": [
    {
     "name": "stdout",
     "output_type": "stream",
     "text": [
      "[1, 2]\n"
     ]
    }
   ],
   "source": [
    "nums = [1, 1, 2]\n",
    "res = []\n",
    "\n",
    "for item in nums:\n",
    "    if item not in res:\n",
    "        res.append(item)\n",
    "\n",
    "nums[:] = res\n",
    "print(nums)\n"
   ]
  },
  {
   "cell_type": "markdown",
   "metadata": {},
   "source": [
    "####  LeetCode#**80** Remove Duplicates from sorted array\n",
    "\n",
    "Given an integer array nums sorted in non-decreasing order, remove some duplicates in-place such that each unique element appears at most twice. The relative order of the elements should be kept the same.\n",
    "\n",
    "Since it is impossible to change the length of the array in some languages, you must instead have the result be placed in the first part of the array nums. More formally, if there are k elements after removing the duplicates, then the first k elements of nums should hold the final result. It does not matter what you leave beyond the first k elements.\n",
    "\n",
    "Return k after placing the final result in the first k slots of nums.\n",
    "\n",
    "Do not allocate extra space for another array. You must do this by modifying the input array in-place with O(1) extra memory."
   ]
  },
  {
   "cell_type": "code",
   "execution_count": 11,
   "metadata": {},
   "outputs": [
    {
     "name": "stdout",
     "output_type": "stream",
     "text": [
      "[1, 1, 2, 2, 3]\n"
     ]
    }
   ],
   "source": [
    "nums = [1,1,1,2,2,3]\n",
    "res = []\n",
    "for item in nums:\n",
    "  if res.count(item)<2:\n",
    "    res.append(item)\n",
    "  else:\n",
    "    pass\n",
    "nums[:] =res\n",
    "print(nums)\n"
   ]
  },
  {
   "cell_type": "markdown",
   "metadata": {},
   "source": [
    "#### LeetCode#169 Majority Element\n",
    "\n",
    "Given an array nums of size n, return the majority element.\n",
    "\n",
    "The majority element is the element that appears more than ⌊n / 2⌋ times. You may assume that the majority element always exists in the array.\n",
    "\n",
    "\n",
    "\n",
    "Example 1:\n",
    "\n",
    "Input: nums = [3,2,3]\n",
    "Output: 3\n",
    "Example 2:\n",
    "\n",
    "Input: nums = [2,2,1,1,1,2,2]\n",
    "Output: 2\n",
    "\n"
   ]
  },
  {
   "cell_type": "code",
   "execution_count": 13,
   "metadata": {},
   "outputs": [
    {
     "name": "stdout",
     "output_type": "stream",
     "text": [
      "3\n"
     ]
    }
   ],
   "source": [
    "res,count = 0,0\n",
    "for n in nums:\n",
    "  if count==0:\n",
    "    res = n\n",
    "if n==res:\n",
    "  count+=1\n",
    "else:\n",
    "  count-=1\n",
    "print(res)"
   ]
  },
  {
   "cell_type": "markdown",
   "metadata": {},
   "source": [
    "#### 189. Rotate array from k index \n",
    "\n",
    "Given an integer array nums, rotate the array to the right by k steps, where k is non-negative.\n"
   ]
  },
  {
   "cell_type": "code",
   "execution_count": 16,
   "metadata": {},
   "outputs": [
    {
     "data": {
      "text/plain": [
       "[5, 6, 7, 1, 2, 3, 4]"
      ]
     },
     "execution_count": 16,
     "metadata": {},
     "output_type": "execute_result"
    }
   ],
   "source": [
    "nums =  [1,2,3,4,5,6,7]\n",
    "k = 3\n",
    "nums = nums[::-1]  # reverse entire array\n",
    "nums[:k] = nums[:k][::-1] # reverse first k elements\n",
    "nums[k:] = nums[k:][::-1] # reverse remaining k elements\n",
    "nums # return nums\n"
   ]
  },
  {
   "cell_type": "markdown",
   "metadata": {},
   "source": [
    "#### LeetCode#121  Best Time to Buy and Sell Stock\n",
    "\n",
    "You are given an array prices where prices[i] is the price of a given stock on the ith day.\n",
    "\n",
    "You want to maximize your profit by choosing a single day to buy one stock and choosing a different day in the future to sell that stock.\n",
    "\n",
    "Return the maximum profit you can achieve from this transaction. If you cannot achieve any profit, return 0.\n",
    "\n",
    "\n",
    "\n",
    "Example 1:\n",
    "\n",
    "Input: prices = [7,1,5,3,6,4]\n",
    "Output: 5\n",
    "Explanation: Buy on day 2 (price = 1) and sell on day 5 (price = 6), profit = 6-1 = 5.\n",
    "Note that buying on day 2 and selling on day 1 is not allowed because you must buy before you sell.\n",
    "\n",
    "\n"
   ]
  },
  {
   "cell_type": "code",
   "execution_count": 17,
   "metadata": {},
   "outputs": [
    {
     "name": "stdout",
     "output_type": "stream",
     "text": [
      "5\n"
     ]
    }
   ],
   "source": [
    "prices =[7,1,5,3,6,4]\n",
    "left,right=0,1\n",
    "profit = 0\n",
    "\n",
    "while right<len(prices):\n",
    "    if prices[right]>prices[left]:\n",
    "        profit = max(prices[right]-prices[left],profit)\n",
    "        right = right+1\n",
    "    else:\n",
    "        left =right\n",
    "        right = right+1\n",
    "print(profit)"
   ]
  },
  {
   "cell_type": "markdown",
   "metadata": {},
   "source": [
    "#### 122. Best time to sell or buy II\n",
    "\n",
    "You are given an integer array prices where prices[i] is the price of a given stock on the ith day.\n",
    "\n",
    "On each day, you may decide to buy and/or sell the stock. You can only hold at most one share of the stock at any time. However, you can buy it then immediately sell it on the same day.\n",
    "\n",
    "Find and return the maximum profit you can achieve.\n",
    "\n",
    " \n",
    "\n",
    "Example 1:\n",
    "\n",
    "Input: prices = [7,1,5,3,6,4]\n",
    "Output: 7\n",
    "Explanation: Buy on day 2 (price = 1) and sell on day 3 (price = 5), profit = 5-1 = 4.\n",
    "Then buy on day 4 (price = 3) and sell on day 5 (price = 6), profit = 6-3 = 3.\n",
    "Total profit is 4 + 3 = 7.\n",
    "\n"
   ]
  },
  {
   "cell_type": "code",
   "execution_count": 18,
   "metadata": {},
   "outputs": [
    {
     "name": "stdout",
     "output_type": "stream",
     "text": [
      "7\n"
     ]
    }
   ],
   "source": [
    "prices = [7,1,5,3,6,4]\n",
    "\n",
    "max_profit = 0\n",
    "for i in range(1,len(prices)):\n",
    "    if prices[i] > prices[i-1]:\n",
    "        profit  =  prices[i]-prices[i-1]\n",
    "        max_profit +=profit\n",
    "print(max_profit)    \n",
    "    \n",
    "    \n"
   ]
  },
  {
   "cell_type": "markdown",
   "metadata": {},
   "source": [
    "### LeetCode#55 Jump Game I"
   ]
  },
  {
   "cell_type": "code",
   "execution_count": 22,
   "metadata": {},
   "outputs": [],
   "source": [
    "def canJump(nums):\n",
    "    max_reach = 0\n",
    "    for i, num in enumerate(nums):\n",
    "        if i > max_reach:\n",
    "            return False\n",
    "        max_reach = max(max_reach, i + num)\n",
    "    return True\n",
    " "
   ]
  },
  {
   "cell_type": "markdown",
   "metadata": {},
   "source": [
    "### LeetCode#125 Palindrome"
   ]
  },
  {
   "cell_type": "code",
   "execution_count": 24,
   "metadata": {},
   "outputs": [
    {
     "name": "stdout",
     "output_type": "stream",
     "text": [
      "True\n"
     ]
    }
   ],
   "source": [
    "s = \"A man, a plan, a canal: Panama\"\n",
    "\"\".join(s)\n",
    "s =\"\".join(item.lower() for item in s if item.isalnum())\n",
    "if (s == s[::-1]):\n",
    "    print(True)\n",
    "else:\n",
    "    print(False)\n"
   ]
  },
  {
   "cell_type": "markdown",
   "metadata": {},
   "source": [
    "### LeetCode#15 3Sum\n",
    "Given an integer array nums, return all the triplets [nums[i], nums[j], nums[k]] such that i != j, i != k, and j != k, and nums[i] + nums[j] + nums[k] == 0.\n",
    "\n"
   ]
  },
  {
   "cell_type": "code",
   "execution_count": 26,
   "metadata": {},
   "outputs": [
    {
     "name": "stdout",
     "output_type": "stream",
     "text": [
      "[[-1, -1, 2], [-1, 0, 1], [0, -1, 1]]\n"
     ]
    }
   ],
   "source": [
    "nums = [-1,0,1,2,-1,-4]\n",
    "n=len(nums)\n",
    "nums.sort()\n",
    "current_sum=0\n",
    "res = []\n",
    "for item in range(n-2):\n",
    "    if item>0 and nums[item]==nums[item-1]:\n",
    "        continue\n",
    "    left=1\n",
    "    right=n-1\n",
    "    while left<right:\n",
    "        current_sum=nums[item]+nums[left]+nums[right]\n",
    "        if current_sum<0:\n",
    "            left+=1\n",
    "        elif current_sum>0:\n",
    "            right-=1\n",
    "        else:\n",
    "            res.append([nums[item],nums[left],nums[right]])\n",
    "            while left<right and nums[left]==nums[left+1]:\n",
    "                left = left+1\n",
    "            while left<right and nums[right]==nums[right-1]:\n",
    "                right = right-1\n",
    "            \n",
    "            left=left+1\n",
    "            right=right-1\n",
    "print(res)        "
   ]
  },
  {
   "cell_type": "markdown",
   "metadata": {},
   "source": [
    "####  LeetCode#209 minimum size subarray sum\n",
    "\n",
    "\n",
    "Given an array of positive integers nums and a positive integer target, return the minimal length of a \n",
    "subarray\n",
    " whose sum is greater than or equal to target. If there is no such subarray, return 0 instead.\n",
    "\n",
    " \n",
    "\n",
    "Example 1:\n",
    "\n",
    "Input: target = 7, nums = [2,3,1,2,4,3]\n",
    "Output: 2\n",
    "Explanation: The subarray [4,3] has the minimal length under the problem constraint."
   ]
  },
  {
   "cell_type": "code",
   "execution_count": 28,
   "metadata": {},
   "outputs": [
    {
     "name": "stdout",
     "output_type": "stream",
     "text": [
      "2\n"
     ]
    }
   ],
   "source": [
    "nums = [2,3,1,2,4,3]\n",
    "target = 7\n",
    "n=len(nums)\n",
    "left=0\n",
    "right=0\n",
    "current_sum= 0\n",
    "min_len=float(\"inf\")\n",
    "\n",
    "while right<n:\n",
    "    current_sum=current_sum+nums[right]\n",
    "    right=right+1\n",
    "    \n",
    "    while current_sum>=target:\n",
    "        min_len=min(min_len,right-left)\n",
    "        current_sum=current_sum-nums[left]\n",
    "        left=left+1\n",
    "        \n",
    "print(min_len if min_len != float('inf') else 0)\n",
    "    \n",
    "    "
   ]
  },
  {
   "cell_type": "markdown",
   "metadata": {},
   "source": [
    "#### Merge Sort Algo"
   ]
  },
  {
   "cell_type": "code",
   "execution_count": 29,
   "metadata": {},
   "outputs": [],
   "source": [
    "def merge_sort(arr):\n",
    "    n = len(arr)\n",
    "    if n>1:\n",
    "        mid = n//2\n",
    "        left_half = arr[:mid]\n",
    "        right_half = arr[mid:]\n",
    "\n",
    "        merge_sort(left_half)\n",
    "        merge_sort(right_half)\n",
    "\n",
    "        i=j=k=0\n",
    "\n",
    "        while i<len(left_half) and j<len(right_half):\n",
    "            if left_half[i]<right_half[j]:\n",
    "                arr[k]=left_half[i]\n",
    "                i=i+1\n",
    "            else:\n",
    "                arr[k]=right_half[j]\n",
    "                j=j+1\n",
    "            k=k+1\n",
    "\n",
    "        while i<len(left_half):\n",
    "            arr[k]=left_half[i]\n",
    "            i=i+1\n",
    "            k=k+1\n",
    "        \n",
    "        while j<len(right_half):\n",
    "            arr[k]=right_half[j]\n",
    "            j=j+1\n",
    "            k=k+1\n",
    "\n",
    "        return arr\n",
    "\n"
   ]
  },
  {
   "cell_type": "code",
   "execution_count": null,
   "metadata": {},
   "outputs": [],
   "source": []
  }
 ],
 "metadata": {
  "kernelspec": {
   "display_name": "test_env",
   "language": "python",
   "name": "python3"
  },
  "language_info": {
   "codemirror_mode": {
    "name": "ipython",
    "version": 3
   },
   "file_extension": ".py",
   "mimetype": "text/x-python",
   "name": "python",
   "nbconvert_exporter": "python",
   "pygments_lexer": "ipython3",
   "version": "3.12.4"
  }
 },
 "nbformat": 4,
 "nbformat_minor": 2
}
