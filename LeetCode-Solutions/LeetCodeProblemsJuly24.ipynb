{
 "cells": [
  {
   "cell_type": "code",
   "execution_count": 103,
   "metadata": {},
   "outputs": [],
   "source": [
    "# prime number\n",
    "def check_prime(n):\n",
    "    for item in range(2,int((n)**(0.5))+1):\n",
    "        if n%item==0:\n",
    "            print(\"not prime\")\n",
    "        else:\n",
    "            print('prime')\n"
   ]
  },
  {
   "cell_type": "code",
   "execution_count": 14,
   "metadata": {},
   "outputs": [
    {
     "name": "stdout",
     "output_type": "stream",
     "text": [
      "not prime\n"
     ]
    }
   ],
   "source": [
    "check_prime(6)"
   ]
  },
  {
   "cell_type": "code",
   "execution_count": 18,
   "metadata": {},
   "outputs": [
    {
     "name": "stdout",
     "output_type": "stream",
     "text": [
      "[0, 1, 1, 2, 3, 5, 8, 13]\n"
     ]
    }
   ],
   "source": [
    "a,b = 0,1\n",
    "fib_series = []\n",
    "for item in range(2,10):\n",
    "    fib_series.append(a)\n",
    "    a,b=b,a+b\n",
    "print(fib_series)\n"
   ]
  },
  {
   "cell_type": "code",
   "execution_count": 27,
   "metadata": {},
   "outputs": [
    {
     "name": "stdout",
     "output_type": "stream",
     "text": [
      "apbqcrxxx\n"
     ]
    }
   ],
   "source": [
    "word1 = \"abcxxx\"\n",
    "word2 = \"pqr\"\n",
    "alter_str = []\n",
    "\n",
    "min_len = min(len(word1),len(word2))\n",
    "\n",
    "for item in range(min_len):\n",
    "    alter_str.append(word1[item])\n",
    "    alter_str.append(word2[item])\n",
    "\n",
    "alter_str.extend(word1[min_len:])\n",
    "alter_str.extend(word2[min_len:])\n",
    "\n",
    "res = \"\".join(alter_str)\n",
    "\n",
    "print(res)\n",
    "\n"
   ]
  },
  {
   "cell_type": "code",
   "execution_count": 35,
   "metadata": {},
   "outputs": [
    {
     "name": "stdout",
     "output_type": "stream",
     "text": [
      "ABC\n"
     ]
    }
   ],
   "source": [
    "str1 = \"ABCABC\"\n",
    "str2 = \"ABC\"\n",
    "res = \"\"\n",
    "i=0\n",
    "j=0\n",
    "while i < len(str1) and j<len(str2):\n",
    "    if str1[i]==str2[j]:\n",
    "        res+=str1[i]\n",
    "        i=i+1\n",
    "        j=j+1\n",
    "    else:\n",
    "        break\n",
    "\n",
    "print(res)"
   ]
  },
  {
   "cell_type": "code",
   "execution_count": 37,
   "metadata": {},
   "outputs": [
    {
     "name": "stdout",
     "output_type": "stream",
     "text": [
      "['true', 'true', 'true', 'false', 'true']\n"
     ]
    }
   ],
   "source": [
    "candies = [2,3,5,1,3]\n",
    "extraCandies = 3\n",
    "max_candy = max(candies)\n",
    "res = []\n",
    "for candy in candies:\n",
    "    if candy+extraCandies>=max_candy:\n",
    "        res.append(\"true\")\n",
    "    else:\n",
    "        res.append(\"false\")\n",
    "\n",
    "print(res)"
   ]
  },
  {
   "cell_type": "code",
   "execution_count": 43,
   "metadata": {},
   "outputs": [
    {
     "name": "stdout",
     "output_type": "stream",
     "text": [
      "True\n"
     ]
    }
   ],
   "source": [
    "flowerbed = [1,0,0,0,1]\n",
    "n = 1\n",
    "f = [0] +  flowerbed + [0]\n",
    "for i in range(len(f)-1):\n",
    "    if f[i-1]==f[i]==f[i+1]==0:\n",
    "        f[i]=1\n",
    "        n=n-1\n",
    "print(n<=0)    \n"
   ]
  },
  {
   "cell_type": "code",
   "execution_count": 1,
   "metadata": {},
   "outputs": [],
   "source": [
    "def binary_search(nums,target):\n",
    "    n = len(nums)\n",
    "    left = 0\n",
    "    right = n-1\n",
    "    while left< right:\n",
    "        mid_index = (left+right)//2\n",
    "        if nums[mid_index]==target:\n",
    "            return f\"found at {mid_index}\"\n",
    "        elif nums[mid_index] < target:\n",
    "            left = mid_index+1\n",
    "        else:\n",
    "            right = mid_index-1\n",
    "    return f\"does not exist\""
   ]
  },
  {
   "cell_type": "code",
   "execution_count": 5,
   "metadata": {},
   "outputs": [
    {
     "data": {
      "text/plain": [
       "'found at 4'"
      ]
     },
     "execution_count": 5,
     "metadata": {},
     "output_type": "execute_result"
    }
   ],
   "source": [
    "nums = [1,34,55,667,999,1992] \n",
    "binary_search(nums=nums,target=999)"
   ]
  },
  {
   "cell_type": "code",
   "execution_count": 19,
   "metadata": {},
   "outputs": [],
   "source": [
    "def merge_sort(arr):\n",
    "    n = len(arr)\n",
    "    if n>1:\n",
    "        mid = n//2\n",
    "        left_half = arr[:mid]\n",
    "        right_half = arr[mid:]\n",
    "\n",
    "        merge_sort(left_half)\n",
    "        merge_sort(right_half)\n",
    "\n",
    "        i=j=k=0\n",
    "\n",
    "        while i<len(left_half) and j<len(right_half):\n",
    "            if left_half[i]<right_half[j]:\n",
    "                arr[k]=left_half[i]\n",
    "                i=i+1\n",
    "            else:\n",
    "                arr[k]=right_half[j]\n",
    "                j=j+1\n",
    "            k=k+1\n",
    "\n",
    "        while i<len(left_half):\n",
    "            arr[k]=left_half[i]\n",
    "            i=i+1\n",
    "            k=k+1\n",
    "        \n",
    "        while j<len(right_half):\n",
    "            arr[k]=right_half[j]\n",
    "            j=j+1\n",
    "            k=k+1\n",
    "\n",
    "        return arr\n",
    "\n"
   ]
  },
  {
   "cell_type": "code",
   "execution_count": 20,
   "metadata": {},
   "outputs": [],
   "source": [
    "arr = [34,12,456,999,54,43,33,22,456,457]"
   ]
  },
  {
   "cell_type": "code",
   "execution_count": 21,
   "metadata": {},
   "outputs": [
    {
     "data": {
      "text/plain": [
       "[12, 22, 33, 34, 43, 54, 456, 456, 457, 999]"
      ]
     },
     "execution_count": 21,
     "metadata": {},
     "output_type": "execute_result"
    }
   ],
   "source": [
    "merge_sort(arr)"
   ]
  },
  {
   "cell_type": "code",
   "execution_count": 24,
   "metadata": {},
   "outputs": [],
   "source": [
    "s = \"anciiidef\" \n",
    "k=3\n",
    "\n",
    "# leetcode 1456 - max vowels in the current window\n",
    "\n",
    "def max_vowels_in_window(s,k):\n",
    "    vowels = {'a', 'e', 'i', 'o', 'u', 'A', 'E', 'I', 'O', 'U'}\n",
    "    current_count = 0\n",
    "    max_vowels = 0\n",
    "\n",
    "    for item in range(k):\n",
    "        if s[item] in vowels:\n",
    "            current_count+=1\n",
    "\n",
    "    max_vowels = current_count\n",
    "\n",
    "    for item in range(k,len(s)):\n",
    "        if s[item] in vowels:\n",
    "            current_count+=1\n",
    "        \n",
    "        if s[item-k] in vowels:\n",
    "            current_count-=1\n",
    "        max_vowels = max(max_vowels,current_count)\n",
    "\n",
    "    return max_vowels\n",
    "\n",
    "\n",
    "\n",
    "    \n",
    "            \n",
    "\n",
    "\n"
   ]
  },
  {
   "cell_type": "code",
   "execution_count": 28,
   "metadata": {},
   "outputs": [
    {
     "data": {
      "text/plain": [
       "3"
      ]
     },
     "execution_count": 28,
     "metadata": {},
     "output_type": "execute_result"
    }
   ],
   "source": [
    "max_vowels_in_window(s,k=4)"
   ]
  },
  {
   "cell_type": "code",
   "execution_count": 32,
   "metadata": {},
   "outputs": [
    {
     "name": "stdout",
     "output_type": "stream",
     "text": [
      "pdqfrgyyyyy\n"
     ]
    }
   ],
   "source": [
    "word1 = \"pqr\"\n",
    "word2 = \"dfgyyyyy\"\n",
    "\n",
    "min_len = min(len(word1),len(word2))\n",
    "res = []\n",
    "\n",
    "for item in range(min_len):\n",
    "    res.append(word1[item])\n",
    "    res.append(word2[item])\n",
    "\n",
    "res.extend(word1[min_len:])\n",
    "res.extend(word2[min_len:])\n",
    "\n",
    "\n",
    "res = \"\".join(res)\n",
    "print(res)\n"
   ]
  },
  {
   "cell_type": "code",
   "execution_count": 41,
   "metadata": {},
   "outputs": [
    {
     "name": "stdout",
     "output_type": "stream",
     "text": [
      "ABCA\n"
     ]
    }
   ],
   "source": [
    "# leetcode 1071\n",
    "\n",
    "str1=\"ABCABC\"\n",
    "str2 = \"ABCA\"\n",
    "res = \"\"\n",
    "\n",
    "i=j=0\n",
    "\n",
    "while i<len(str1) and j<len(str2):\n",
    "    if str1[i]==str2[j]:\n",
    "        res=res+str1[i]\n",
    "        i=i+1\n",
    "        j=j+1\n",
    "    else:\n",
    "        break\n",
    "print(\"\".join(res))\n",
    "\n",
    "\n",
    "\n",
    "\n"
   ]
  },
  {
   "cell_type": "code",
   "execution_count": 46,
   "metadata": {},
   "outputs": [
    {
     "name": "stdout",
     "output_type": "stream",
     "text": [
      "True\n"
     ]
    }
   ],
   "source": [
    "#leetcode 605\n",
    "\n",
    "fbed = [1,0,0,0,1]\n",
    "n=1\n",
    "\n",
    "f = [0] + fbed + [0]\n",
    "\n",
    "for item in range(len(f)-1):\n",
    "    if f[item-1] == f[item]==f[item+1]==0:\n",
    "        f[item]=1\n",
    "        n=n-1\n",
    "print(n<=0)\n"
   ]
  },
  {
   "cell_type": "code",
   "execution_count": 57,
   "metadata": {},
   "outputs": [
    {
     "name": "stdout",
     "output_type": "stream",
     "text": [
      "holle\n"
     ]
    }
   ],
   "source": [
    "s = \"hello\"\n",
    "\n",
    "vowels = {'a', 'e', 'i', 'o', 'u', 'A', 'E', 'I', 'O', 'U'}\n",
    "s =list(s)\n",
    "left = 0\n",
    "right = len(s)-1\n",
    "\n",
    "while left<right:\n",
    "    if s[left] in vowels and s[right] in vowels:\n",
    "        s[left],s[right]=s[right],s[left]\n",
    "        left=left+1\n",
    "        right=right-1\n",
    "    else:\n",
    "        if s[left] not in vowels:\n",
    "            left=left+1\n",
    "        if s[right] not in vowels:\n",
    "            right=right-1\n",
    "print(\"\".join(s))\n",
    "        \n",
    "\n",
    "\n",
    "    \n",
    "\n",
    "\n"
   ]
  },
  {
   "cell_type": "code",
   "execution_count": 67,
   "metadata": {},
   "outputs": [
    {
     "name": "stdout",
     "output_type": "stream",
     "text": [
      "mary hello\n"
     ]
    }
   ],
   "source": [
    "# leetcode 151\n",
    "s = 'hello mary'\n",
    "\n",
    "s_list = s.split(\" \")\n",
    "\n",
    "left=0\n",
    "right=len(s_list)-1\n",
    "\n",
    "while left<right:\n",
    "    s_list[left],s_list[right]=s_list[right],s_list[left]\n",
    "    left=left+1\n",
    "    right =right-1\n",
    "\n",
    "print(\" \".join(s_list))"
   ]
  },
  {
   "cell_type": "code",
   "execution_count": 71,
   "metadata": {},
   "outputs": [
    {
     "name": "stdout",
     "output_type": "stream",
     "text": [
      "[0, 0, 9, 0, 0]\n"
     ]
    }
   ],
   "source": [
    "# leetcode 238\n",
    "\n",
    "nums = [-1,1,0,-3,3]\n",
    "\n",
    "n=len(nums)\n",
    "left_pro = [1]*n\n",
    "right_pro = [1]*n\n",
    "out_pro = [1]*n\n",
    "\n",
    "\n",
    "for item in range(1,n):\n",
    "    left_pro[item] = left_pro[item-1]*nums[item-1]\n",
    "\n",
    "for item in range(n-2,-1,-1):\n",
    "    right_pro[item] = right_pro[item+1]*nums[item+1]\n",
    "\n",
    "for item in range(n):\n",
    "    out_pro[item]=left_pro[item]*right_pro[item]\n",
    "\n",
    "print(out_pro) "
   ]
  },
  {
   "cell_type": "code",
   "execution_count": 79,
   "metadata": {},
   "outputs": [
    {
     "data": {
      "text/plain": [
       "True"
      ]
     },
     "execution_count": 79,
     "metadata": {},
     "output_type": "execute_result"
    }
   ],
   "source": [
    "nums =  [1,2,3,4,5]\n",
    "def increasing_triplets(nums):\n",
    "    first = float(\"inf\")\n",
    "    second = float(\"inf\")\n",
    "\n",
    "    for item in nums:\n",
    "        if item<=first:\n",
    "            first=item\n",
    "        elif item<=second:\n",
    "            second=item\n",
    "        else:\n",
    "            return True\n",
    "    return False\n",
    "\n",
    "increasing_triplets(nums)"
   ]
  },
  {
   "cell_type": "code",
   "execution_count": 83,
   "metadata": {},
   "outputs": [
    {
     "name": "stdout",
     "output_type": "stream",
     "text": [
      "67\n"
     ]
    }
   ],
   "source": [
    "# find second largest element \n",
    "nums = [34,451,67]\n",
    "first = float(\"-inf\")\n",
    "second = float(\"-inf\")\n",
    "\n",
    "for num in nums:\n",
    "    if num>first:\n",
    "        second=first\n",
    "        first=num\n",
    "    elif first>num>second:\n",
    "        second = num\n",
    "\n",
    "print(second)"
   ]
  },
  {
   "cell_type": "code",
   "execution_count": 85,
   "metadata": {},
   "outputs": [
    {
     "name": "stdout",
     "output_type": "stream",
     "text": [
      "[1, 3, 12, 0, 0]\n"
     ]
    }
   ],
   "source": [
    "# 283\n",
    "\n",
    "\n",
    "nums = [0,1,0,3,12]\n",
    "left = 0\n",
    "\n",
    "for item in range(len(nums)):\n",
    "    if nums[item]!=0:\n",
    "        nums[left],nums[item]=nums[item],nums[left]\n",
    "        left+=1\n",
    "print(nums)\n"
   ]
  },
  {
   "cell_type": "code",
   "execution_count": 93,
   "metadata": {},
   "outputs": [
    {
     "name": "stdout",
     "output_type": "stream",
     "text": [
      "True\n"
     ]
    }
   ],
   "source": [
    "s=\"abc\"\n",
    "t = \"ahbgdc\"\n",
    "i=j=0\n",
    "while i< len(s) and j<len(t):\n",
    "    if s[i]==t[j]:\n",
    "        i=i+1\n",
    "    j=j+1\n",
    "print(i==len(s))"
   ]
  },
  {
   "cell_type": "code",
   "execution_count": 95,
   "metadata": {},
   "outputs": [
    {
     "name": "stdout",
     "output_type": "stream",
     "text": [
      "max_area is : 49\n"
     ]
    }
   ],
   "source": [
    "# container with water \n",
    "\n",
    "height = [1,8,6,2,5,4,8,3,7]\n",
    "\n",
    "left = 0\n",
    "right= len(height)-1\n",
    "max_area = 0\n",
    "\n",
    "while left<right:\n",
    "    width = right-left\n",
    "    min_height = min(height[left],height[right])\n",
    "    cur_area = width * min_height\n",
    "    max_area = max(max_area,cur_area)\n",
    "\n",
    "    if height[left]<height[right]:\n",
    "        left=left+1\n",
    "    else:\n",
    "        right=right-1\n",
    "\n",
    "print(\"max_area is :\",max_area)\n"
   ]
  },
  {
   "cell_type": "code",
   "execution_count": 102,
   "metadata": {},
   "outputs": [
    {
     "name": "stdout",
     "output_type": "stream",
     "text": [
      "2\n"
     ]
    }
   ],
   "source": [
    "# 1679 max number of k pairs\n",
    "\n",
    "nums = [1,2,3,4]\n",
    "k=5\n",
    "\n",
    "count = {}\n",
    "pair = 0\n",
    "\n",
    "for item in nums:\n",
    "    compliment = k-item\n",
    "\n",
    "    if compliment in count and count[compliment]>0:\n",
    "        pair+=1\n",
    "        count[compliment]-=1\n",
    "    else:\n",
    "        if item not in count:\n",
    "            count[item]=0\n",
    "        count[item]+=1\n",
    "\n",
    "print(pair)"
   ]
  },
  {
   "cell_type": "code",
   "execution_count": null,
   "metadata": {},
   "outputs": [],
   "source": []
  }
 ],
 "metadata": {
  "kernelspec": {
   "display_name": "test_env",
   "language": "python",
   "name": "python3"
  },
  "language_info": {
   "codemirror_mode": {
    "name": "ipython",
    "version": 3
   },
   "file_extension": ".py",
   "mimetype": "text/x-python",
   "name": "python",
   "nbconvert_exporter": "python",
   "pygments_lexer": "ipython3",
   "version": "3.12.4"
  }
 },
 "nbformat": 4,
 "nbformat_minor": 2
}
