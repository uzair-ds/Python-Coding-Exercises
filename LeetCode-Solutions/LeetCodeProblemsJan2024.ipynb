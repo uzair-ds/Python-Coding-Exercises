{
  "cells": [
    {
      "cell_type": "markdown",
      "metadata": {
        "id": "F-xD6n60hF0h"
      },
      "source": [
        "# LeetCode#88 Merge Sorted Array"
      ]
    },
    {
      "cell_type": "markdown",
      "metadata": {
        "id": "cnKf2817hTOF"
      },
      "source": [
        "You are given two integer arrays nums1 and nums2, sorted in non-decreasing order, and two integers m and n, representing the number of elements in nums1 and nums2 respectively.\n",
        "\n",
        "Merge nums1 and nums2 into a single array sorted in non-decreasing order.\n",
        "\n",
        "The final sorted array should not be returned by the function, but instead be stored inside the array nums1. To accommodate this, nums1 has a length of m + n, where the first m elements denote the elements that should be merged, and the last n elements are set to 0 and should be ignored. nums2 has a length of n.\n",
        "\n",
        "Input: nums1 = [1,2,3,0,0,0], m = 3, nums2 = [2,5,6], n = 3\n",
        "Output: [1,2,2,3,5,6]\n",
        "Explanation: The arrays we are merging are [1,2,3] and [2,5,6].\n",
        "The result of the merge is [1,2,2,3,5,6] with the underlined elements coming from nums1."
      ]
    },
    {
      "cell_type": "code",
      "execution_count": 2,
      "metadata": {
        "id": "YVJQBm-ggUj3"
      },
      "outputs": [],
      "source": []
    },
    {
      "cell_type": "code",
      "execution_count": null,
      "metadata": {
        "id": "NUEDaUP-HeS6"
      },
      "outputs": [],
      "source": [
        "nums1 = [1,2,3,0,0,0]\n",
        "a = 3\n",
        "nums2 = [2,5,6]\n",
        "b = 3"
      ]
    },
    {
      "cell_type": "code",
      "execution_count": null,
      "metadata": {
        "id": "OqKpE0ugH0Pn"
      },
      "outputs": [],
      "source": [
        "# merge the nums1 and nums2 in sorted array in decreasing order"
      ]
    },
    {
      "cell_type": "code",
      "execution_count": null,
      "metadata": {
        "id": "7iJEy6UBSaa7"
      },
      "outputs": [],
      "source": [
        "class Solution:\n",
        "    def merge(self, nums1: List[int], a: int, nums2: List[int], b: int) -> None:\n",
        "        \"\"\"\n",
        "        Do not return anything, modify nums1 in-place instead.\n",
        "        \"\"\"\n",
        "        m = a-1\n",
        "        n = b-1\n",
        "        last = a+b-1\n",
        "        while m>=0 and n>=0:\n",
        "            if nums1[m]>nums2[n]:\n",
        "                nums1[last]=nums1[m]\n",
        "                m=m-1\n",
        "            else:\n",
        "                nums1[last]=nums2[n]\n",
        "                n=n-1\n",
        "            last = last-1\n",
        "        while n>=0:\n",
        "            nums1[last]=nums2[n]\n",
        "            n=n-1\n",
        "            last=last-1"
      ]
    },
    {
      "cell_type": "code",
      "execution_count": null,
      "metadata": {
        "colab": {
          "base_uri": "https://localhost:8080/"
        },
        "id": "dl02QcTiPIfk",
        "outputId": "50fabca6-ffc7-4943-9552-c72797d3b191"
      },
      "outputs": [
        {
          "data": {
            "text/plain": [
              "[1, 2, 2, 2, 5, 6]"
            ]
          },
          "execution_count": 48,
          "metadata": {},
          "output_type": "execute_result"
        }
      ],
      "source": []
    },
    {
      "cell_type": "markdown",
      "metadata": {
        "id": "3LC4e92qhART"
      },
      "source": [
        "# LeetCode#27 Remove Element"
      ]
    },
    {
      "cell_type": "markdown",
      "metadata": {
        "id": "USQfuBuMhPXN"
      },
      "source": [
        "Given an integer array nums and an integer val, remove all occurrences of val in nums in-place. The order of the elements may be changed. Then return the number of elements in nums which are not equal to val.\n",
        "\n",
        "Consider the number of elements in nums which are not equal to val be k, to get accepted, you need to do the following things:\n",
        "\n",
        "Change the array nums such that the first k elements of nums contain the elements which are not equal to val. The remaining elements of nums are not important as well as the size of nums.\n",
        "Return k."
      ]
    },
    {
      "cell_type": "markdown",
      "metadata": {
        "id": "-yipqORdhY3e"
      },
      "source": []
    },
    {
      "cell_type": "markdown",
      "metadata": {
        "id": "WPNmqrtkhZ3J"
      },
      "source": [
        "Input: nums = [3,2,2,3], val = 3\n",
        "Output: 2, nums = [2,2,_,_]\n",
        "Explanation: Your function should return k = 2, with the first two elements of nums being 2.\n",
        "It does not matter what you leave beyond the returned k (hence they are underscores)."
      ]
    },
    {
      "cell_type": "code",
      "execution_count": 21,
      "metadata": {
        "id": "g8fcTeJEhcYi"
      },
      "outputs": [],
      "source": [
        "nums = [0,1,2,2,3,0,4,2]\n",
        "\n",
        "val = 2"
      ]
    },
    {
      "cell_type": "code",
      "execution_count": 22,
      "metadata": {
        "colab": {
          "base_uri": "https://localhost:8080/"
        },
        "id": "gkND2eJ7hlET",
        "outputId": "b40670a9-7754-4bdc-fbe1-a313dbb763b7"
      },
      "outputs": [
        {
          "name": "stdout",
          "output_type": "stream",
          "text": [
            "[0, 1, 3, 0, 4, 2]\n"
          ]
        }
      ],
      "source": [
        "for item in nums:\n",
        "  if item==val:\n",
        "    nums.remove(item)\n",
        "print(nums)"
      ]
    },
    {
      "cell_type": "markdown",
      "metadata": {
        "id": "2t-Mquahi7C4"
      },
      "source": []
    },
    {
      "cell_type": "code",
      "execution_count": 16,
      "metadata": {
        "colab": {
          "base_uri": "https://localhost:8080/"
        },
        "id": "rxHrQy-ai7RK",
        "outputId": "8dc0e470-5071-4515-93da-b14900a68efa"
      },
      "outputs": [
        {
          "name": "stdout",
          "output_type": "stream",
          "text": [
            "0\n",
            "1\n",
            "2\n",
            "3\n",
            "4\n",
            "5\n",
            "6\n",
            "7\n"
          ]
        }
      ],
      "source": [
        "for item in range(len(nums)):\n",
        "  print(item)"
      ]
    },
    {
      "cell_type": "code",
      "execution_count": 24,
      "metadata": {
        "id": "Lzm4aR7-hs6E"
      },
      "outputs": [],
      "source": [
        "def removeElement(nums,val):\n",
        "  res = []\n",
        "  for item in nums:\n",
        "      if item!=val:\n",
        "          res.append(item)\n",
        "  nums[:]=res\n",
        "  print(nums)"
      ]
    },
    {
      "cell_type": "code",
      "execution_count": 25,
      "metadata": {
        "colab": {
          "base_uri": "https://localhost:8080/"
        },
        "id": "c9G2DDDTi3GE",
        "outputId": "f97c711e-63b7-4978-877a-530156b1ed97"
      },
      "outputs": [
        {
          "name": "stdout",
          "output_type": "stream",
          "text": [
            "[0, 1, 3, 0, 4]\n"
          ]
        }
      ],
      "source": [
        "removeElement(nums,val)"
      ]
    },
    {
      "cell_type": "markdown",
      "metadata": {
        "id": "GfKcxSbFmCzI"
      },
      "source": [
        "# LeetCode#26 Remove Duplicate from array I"
      ]
    },
    {
      "cell_type": "markdown",
      "metadata": {},
      "source": []
    },
    {
      "cell_type": "markdown",
      "metadata": {
        "id": "M15j37rSmODc"
      },
      "source": [
        "Given an integer array nums sorted in non-decreasing order, remove the duplicates in-place such that each unique element appears only once. The relative order of the elements should be kept the same. Then return the number of unique elements in nums.\n",
        "\n",
        "Consider the number of unique elements of nums to be k, to get accepted, you need to do the following things:\n",
        "\n",
        "Change the array nums such that the first k elements of nums contain the unique elements in the order they were present in nums initially. The remaining elements of nums are not important as well as the size of nums.\n",
        "Return k."
      ]
    },
    {
      "cell_type": "markdown",
      "metadata": {
        "id": "0SkUKSkjmQkn"
      },
      "source": []
    },
    {
      "cell_type": "code",
      "execution_count": 65,
      "metadata": {
        "id": "1cA_AzfjmALJ"
      },
      "outputs": [],
      "source": [
        "# nums = [0,0,1,1,1,2,2,3,3,4]\n",
        "nums = [1,1,2]"
      ]
    },
    {
      "cell_type": "code",
      "execution_count": 68,
      "metadata": {
        "colab": {
          "base_uri": "https://localhost:8080/"
        },
        "id": "_itaKEegm6YL",
        "outputId": "42b5c011-41c2-4240-d416-ec25f32a8414"
      },
      "outputs": [
        {
          "name": "stdout",
          "output_type": "stream",
          "text": [
            "[1, 2]\n"
          ]
        }
      ],
      "source": [
        "nums = [1, 1, 2]\n",
        "res = []\n",
        "\n",
        "for item in nums:\n",
        "    if item not in res:\n",
        "        res.append(item)\n",
        "\n",
        "nums[:] = res\n",
        "print(nums)\n"
      ]
    },
    {
      "cell_type": "markdown",
      "metadata": {
        "id": "rsCUzy76toAQ"
      },
      "source": [
        "# LeetCode#**80** Remove Duplicates from sorted array"
      ]
    },
    {
      "cell_type": "markdown",
      "metadata": {
        "id": "xw9WGyu8tqDe"
      },
      "source": [
        "Given an integer array nums sorted in non-decreasing order, remove some duplicates in-place such that each unique element appears at most twice. The relative order of the elements should be kept the same.\n",
        "\n",
        "Since it is impossible to change the length of the array in some languages, you must instead have the result be placed in the first part of the array nums. More formally, if there are k elements after removing the duplicates, then the first k elements of nums should hold the final result. It does not matter what you leave beyond the first k elements.\n",
        "\n",
        "Return k after placing the final result in the first k slots of nums.\n",
        "\n",
        "Do not allocate extra space for another array. You must do this by modifying the input array in-place with O(1) extra memory."
      ]
    },
    {
      "cell_type": "markdown",
      "metadata": {
        "id": "1B6nogjxt1ys"
      },
      "source": [
        "Input: nums = [1,1,1,2,2,3]\n",
        "Output: 5, nums = [1,1,2,2,3,_]\n",
        "Explanation: Your function should return k = 5, with the first five elements of nums being 1, 1, 2, 2 and 3 respectively.\n",
        "It does not matter what you leave beyond the returned k (hence they are underscores)."
      ]
    },
    {
      "cell_type": "code",
      "execution_count": 85,
      "metadata": {
        "colab": {
          "base_uri": "https://localhost:8080/"
        },
        "id": "y3Vh9zgrr_3b",
        "outputId": "1c847230-d74b-4188-c23f-5b03afed42d2"
      },
      "outputs": [
        {
          "name": "stdout",
          "output_type": "stream",
          "text": [
            "[1, 1, 2, 2, 3]\n"
          ]
        }
      ],
      "source": [
        "nums = [1,1,1,2,2,3]\n",
        "res = []\n",
        "for item in nums:\n",
        "  if res.count(item)<2:\n",
        "    res.append(item)\n",
        "  else:\n",
        "    pass\n",
        "nums[:] =res\n",
        "print(nums)\n"
      ]
    },
    {
      "cell_type": "markdown",
      "metadata": {
        "id": "vUZY2Uffxoff"
      },
      "source": [
        "# LeetCode#169 Majority Element"
      ]
    },
    {
      "cell_type": "markdown",
      "metadata": {
        "id": "e3spXqMDxm62"
      },
      "source": [
        "Given an array nums of size n, return the majority element.\n",
        "\n",
        "The majority element is the element that appears more than ⌊n / 2⌋ times. You may assume that the majority element always exists in the array.\n",
        "\n",
        "\n",
        "\n",
        "Example 1:\n",
        "\n",
        "Input: nums = [3,2,3]\n",
        "Output: 3\n",
        "Example 2:\n",
        "\n",
        "Input: nums = [2,2,1,1,1,2,2]\n",
        "Output: 2"
      ]
    },
    {
      "cell_type": "code",
      "execution_count": 121,
      "metadata": {
        "id": "odkoaHwbuk8C"
      },
      "outputs": [],
      "source": [
        "\n",
        "def majorityElement( nums) -> int:\n",
        "    a = {}\n",
        "    for item in nums:\n",
        "        a[item]=nums.count(item)\n",
        "\n",
        "    max_count = 0\n",
        "    for value in a.values():\n",
        "        if value >= max_count:\n",
        "            max_count = value\n",
        "\n",
        "    for k,v in a.items():\n",
        "        if v==max_count:\n",
        "            break\n",
        "    return k\n",
        "\n",
        "\n",
        "\n"
      ]
    },
    {
      "cell_type": "code",
      "execution_count": 9,
      "metadata": {
        "colab": {
          "base_uri": "https://localhost:8080/"
        },
        "id": "7xz5ucy7yGSg",
        "outputId": "a97275be-0876-43a1-b246-bd07090804a0"
      },
      "outputs": [
        {
          "name": "stdout",
          "output_type": "stream",
          "text": [
            "3\n"
          ]
        }
      ],
      "source": [
        "nums=  [3,2,3]\n",
        "candidate = None\n",
        "count = 0\n",
        "\n",
        "for item in nums:\n",
        "  if count==0:\n",
        "    candidate = item\n",
        "\n",
        "if item == candidate:\n",
        "  count = count + 1\n",
        "else:\n",
        "  count = count - 1\n",
        "print(candidate)"
      ]
    },
    {
      "cell_type": "code",
      "execution_count": null,
      "metadata": {
        "id": "MdZ_xDhUS3VE"
      },
      "outputs": [],
      "source": []
    },
    {
      "cell_type": "markdown",
      "metadata": {
        "id": "WlSPCCpX892-"
      },
      "source": [
        "naive approach"
      ]
    },
    {
      "cell_type": "code",
      "execution_count": 5,
      "metadata": {
        "colab": {
          "base_uri": "https://localhost:8080/"
        },
        "id": "4pI25YOc8aIB",
        "outputId": "9e0e85ec-828b-4673-9b0a-247634fb22e6"
      },
      "outputs": [
        {
          "name": "stdout",
          "output_type": "stream",
          "text": [
            "3\n"
          ]
        }
      ],
      "source": [
        "nums=  [3,2,3]\n",
        "count = {}\n",
        "res,maxCount = 0,0\n",
        "for n in nums:\n",
        "  count[n] = 1 + count.get(n,0)\n",
        "  if count[n]>maxCount:\n",
        "    res=n\n",
        "    maxCount= max(count[n],maxCount)\n",
        "print(res)"
      ]
    },
    {
      "cell_type": "markdown",
      "metadata": {
        "id": "vEq6xjR5TKrl"
      },
      "source": [
        "Best Solution : O(1)"
      ]
    },
    {
      "cell_type": "code",
      "execution_count": 10,
      "metadata": {
        "colab": {
          "base_uri": "https://localhost:8080/"
        },
        "id": "3926psiv6hTJ",
        "outputId": "b8f04107-8b86-41ee-a1c1-0c866010b31a"
      },
      "outputs": [
        {
          "name": "stdout",
          "output_type": "stream",
          "text": [
            "3\n"
          ]
        }
      ],
      "source": [
        "res,count = 0,0\n",
        "for n in nums:\n",
        "  if count==0:\n",
        "    res = n\n",
        "if n==res:\n",
        "  count+=1\n",
        "else:\n",
        "  count-=1\n",
        "print(res)"
      ]
    },
    {
      "cell_type": "markdown",
      "metadata": {
        "id": "lAFdIuD9TZ5B"
      },
      "source": [
        "LeetCode#189 Rotate Array"
      ]
    },
    {
      "cell_type": "markdown",
      "metadata": {
        "id": "E79hvQtwTmUX"
      },
      "source": [
        "Given an integer array nums, rotate the array to the right by k steps, where k is non-negative.\n",
        "\n",
        "\n",
        "\n",
        "Example 1:\n",
        "\n",
        "Input: nums = [1,2,3,4,5,6,7], k = 3\n",
        "Output: [5,6,7,1,2,3,4]\n",
        "Explanation:\n",
        "rotate 1 steps to the right: [7,1,2,3,4,5,6]\n",
        "rotate 2 steps to the right: [6,7,1,2,3,4,5]\n",
        "rotate 3 steps to the right: [5,6,7,1,2,3,4]"
      ]
    },
    {
      "cell_type": "code",
      "execution_count": 39,
      "metadata": {
        "id": "AfIg0In2THwu"
      },
      "outputs": [],
      "source": [
        "nums =  [1,2,3,4,5,6,7]\n",
        "k = 3"
      ]
    },
    {
      "cell_type": "code",
      "execution_count": 27,
      "metadata": {
        "id": "uFYNRBOgd-ek"
      },
      "outputs": [],
      "source": [
        "for i in range(k):\n",
        "  nums.insert(0,nums.pop())\n",
        "\n"
      ]
    },
    {
      "cell_type": "code",
      "execution_count": 41,
      "metadata": {
        "colab": {
          "base_uri": "https://localhost:8080/"
        },
        "id": "aHgZbls1ee13",
        "outputId": "bd3f8aa3-f342-4240-d511-10a9216f5f2c"
      },
      "outputs": [
        {
          "data": {
            "text/plain": [
              "[5, 6, 7, 1, 2, 3, 4]"
            ]
          },
          "execution_count": 41,
          "metadata": {},
          "output_type": "execute_result"
        }
      ],
      "source": [
        "nums = nums[::-1]  # reverse entire array\n",
        "nums[:k] = nums[:k][::-1] # reverse first k elements\n",
        "nums[k:] = nums[k:][::-1] # reverse remaining k elements\n",
        "nums # return nums\n"
      ]
    },
    {
      "cell_type": "markdown",
      "metadata": {
        "id": "tQIASN9nj1d7"
      },
      "source": [
        "# LeetCode#121  Best Time to Buy and Sell Stock\n",
        "\n",
        "\n"
      ]
    },
    {
      "cell_type": "markdown",
      "metadata": {
        "id": "ScP-2CsZj41l"
      },
      "source": [
        "You are given an array prices where prices[i] is the price of a given stock on the ith day.\n",
        "\n",
        "You want to maximize your profit by choosing a single day to buy one stock and choosing a different day in the future to sell that stock.\n",
        "\n",
        "Return the maximum profit you can achieve from this transaction. If you cannot achieve any profit, return 0.\n",
        "\n",
        "\n",
        "\n",
        "Example 1:\n",
        "\n",
        "Input: prices = [7,1,5,3,6,4]\n",
        "Output: 5\n",
        "Explanation: Buy on day 2 (price = 1) and sell on day 5 (price = 6), profit = 6-1 = 5.\n",
        "Note that buying on day 2 and selling on day 1 is not allowed because you must buy before you sell."
      ]
    },
    {
      "cell_type": "code",
      "execution_count": 9,
      "metadata": {
        "colab": {
          "base_uri": "https://localhost:8080/"
        },
        "id": "-GRUhjIJigc9",
        "outputId": "d04f531f-6900-4b08-bc4c-9aac469958ef"
      },
      "outputs": [],
      "source": [
        "prices =[7,1,5,3,6,4]"
      ]
    },
    {
      "cell_type": "code",
      "execution_count": 13,
      "metadata": {
        "id": "t9vK2o0CjBZq"
      },
      "outputs": [
        {
          "name": "stdout",
          "output_type": "stream",
          "text": [
            "5\n"
          ]
        }
      ],
      "source": [
        "left,right=0,1\n",
        "profit = 0\n",
        "\n",
        "while right<len(prices):\n",
        "    if prices[right]>prices[left]:\n",
        "        profit = max(prices[right]-prices[left],profit)\n",
        "        right = right+1\n",
        "    else:\n",
        "        left =right\n",
        "        right = right+1\n",
        "print(profit)"
      ]
    },
    {
      "cell_type": "markdown",
      "metadata": {},
      "source": [
        "# LeetCode#122 Best time to sell or buy II"
      ]
    },
    {
      "cell_type": "markdown",
      "metadata": {},
      "source": [
        "You are given an integer array prices where prices[i] is the price of a given stock on the ith day.\n",
        "\n",
        "On each day, you may decide to buy and/or sell the stock. You can only hold at most one share of the stock at any time. However, you can buy it then immediately sell it on the same day.\n",
        "\n",
        "Find and return the maximum profit you can achieve.\n",
        "\n",
        " \n",
        "\n",
        "Example 1:\n",
        "\n",
        "Input: prices = [7,1,5,3,6,4]\n",
        "Output: 7\n",
        "Explanation: Buy on day 2 (price = 1) and sell on day 3 (price = 5), profit = 5-1 = 4.\n",
        "Then buy on day 4 (price = 3) and sell on day 5 (price = 6), profit = 6-3 = 3.\n",
        "Total profit is 4 + 3 = 7."
      ]
    },
    {
      "cell_type": "code",
      "execution_count": 4,
      "metadata": {},
      "outputs": [
        {
          "name": "stdout",
          "output_type": "stream",
          "text": [
            "7\n"
          ]
        }
      ],
      "source": [
        "prices = [7,1,5,3,6,4]\n",
        "\n",
        "max_profit = 0\n",
        "for i in range(1,len(prices)):\n",
        "    if prices[i] > prices[i-1]:\n",
        "        profit  =  prices[i]-prices[i-1]\n",
        "        max_profit +=profit\n",
        "print(max_profit)    \n",
        "    \n",
        "    \n"
      ]
    },
    {
      "cell_type": "markdown",
      "metadata": {},
      "source": [
        "# LeetCode#55 Jump Game I"
      ]
    },
    {
      "cell_type": "markdown",
      "metadata": {},
      "source": [
        "You are given an integer array nums. You are initially positioned at the array's first index, and each element in the array represents your maximum jump length at that position.\n",
        "\n",
        "Return true if you can reach the last index, or false otherwise\n",
        "Input: nums = [2,3,1,1,4]\n",
        "Output: true\n",
        "Explanation: Jump 1 step from index 0 to 1, then 3 steps to the last index."
      ]
    },
    {
      "cell_type": "code",
      "execution_count": 43,
      "metadata": {},
      "outputs": [
        {
          "name": "stdout",
          "output_type": "stream",
          "text": [
            "True\n"
          ]
        }
      ],
      "source": [
        "nums = [2,3,1,1,4]\n",
        "i = 0\n",
        "reach = 0\n",
        "\n",
        "while i < len(nums) and i <= reach:\n",
        "    reach = max(reach, i + nums[i])\n",
        "    i += 1\n",
        "\n",
        "print(i == len(nums))\n",
        "\n"
      ]
    },
    {
      "cell_type": "code",
      "execution_count": 52,
      "metadata": {},
      "outputs": [
        {
          "name": "stdout",
          "output_type": "stream",
          "text": [
            "True\n"
          ]
        }
      ],
      "source": [
        "nums = [3,2,1,0,4]\n",
        "reach =0\n",
        "for item in range(len(nums)):\n",
        "    if item>reach:\n",
        "        break\n",
        "    reach = max(reach,item + nums[item])\n",
        "print(i == len(nums))\n",
        "\n",
        "    \n",
        "    "
      ]
    },
    {
      "cell_type": "code",
      "execution_count": 53,
      "metadata": {},
      "outputs": [],
      "source": [
        "def canJump(nums):\n",
        "    if not nums:\n",
        "        return False\n",
        "\n",
        "    max_reach = 0\n",
        "    n = len(nums)\n",
        "\n",
        "    for i in range(n):\n",
        "        if i > max_reach:\n",
        "            return False\n",
        "\n",
        "        max_reach = max(max_reach, i + nums[i])\n",
        "\n",
        "        if max_reach >= n - 1:\n",
        "            return True\n",
        "\n",
        "    return False\n"
      ]
    },
    {
      "cell_type": "markdown",
      "metadata": {},
      "source": [
        "# LeetCode#45 Jump Game II"
      ]
    },
    {
      "cell_type": "markdown",
      "metadata": {},
      "source": [
        "You are given a 0-indexed array of integers nums of length n. You are initially positioned at nums[0].\n",
        "\n",
        "Each element nums[i] represents the maximum length of a forward jump from index i. In other words, if you are at nums[i], you can jump to any nums[i + j] where:\n",
        "\n",
        "0 <= j <= nums[i] and\n",
        "i + j < n\n",
        "Return the minimum number of jumps to reach nums[n - 1]. The test cases are generated such that you can reach nums[n - 1]."
      ]
    },
    {
      "cell_type": "code",
      "execution_count": null,
      "metadata": {},
      "outputs": [],
      "source": [
        "pass"
      ]
    },
    {
      "cell_type": "markdown",
      "metadata": {},
      "source": [
        "# LeetCode#125 Palindrome"
      ]
    },
    {
      "cell_type": "markdown",
      "metadata": {},
      "source": [
        "A phrase is a palindrome if, after converting all uppercase letters into lowercase letters and removing all non-alphanumeric characters, it reads the same forward and backward. Alphanumeric characters include letters and numbers.\n",
        "\n"
      ]
    },
    {
      "cell_type": "code",
      "execution_count": 65,
      "metadata": {},
      "outputs": [
        {
          "data": {
            "text/plain": [
              "'A man, a plan, a canal: Panama'"
            ]
          },
          "execution_count": 65,
          "metadata": {},
          "output_type": "execute_result"
        }
      ],
      "source": [
        "s = \"A man, a plan, a canal: Panama\"\n",
        "\"\".join(s)"
      ]
    },
    {
      "cell_type": "code",
      "execution_count": 84,
      "metadata": {},
      "outputs": [],
      "source": [
        "s =\"\".join(item.lower() for item in s if item.isalnum())"
      ]
    },
    {
      "cell_type": "code",
      "execution_count": 86,
      "metadata": {},
      "outputs": [
        {
          "name": "stdout",
          "output_type": "stream",
          "text": [
            "True\n"
          ]
        }
      ],
      "source": [
        "if (s == s[::-1]):\n",
        "    print(True)\n",
        "else:\n",
        "    print(False)\n"
      ]
    },
    {
      "cell_type": "markdown",
      "metadata": {},
      "source": [
        "# LeetCode#392 Subsequence of String"
      ]
    },
    {
      "cell_type": "markdown",
      "metadata": {},
      "source": [
        "Given two strings s and t, return true if s is a subsequence of t, or false otherwise.\n",
        "\n",
        "A subsequence of a string is a new string that is formed from the original string by deleting some (can be none) of the characters without disturbing the relative positions of the remaining characters. (i.e., \"ace\" is a subsequence of \"abcde\" while \"aec\" is not)."
      ]
    },
    {
      "cell_type": "code",
      "execution_count": 88,
      "metadata": {},
      "outputs": [
        {
          "name": "stdout",
          "output_type": "stream",
          "text": [
            "True\n"
          ]
        }
      ],
      "source": [
        "s = \"abc\"\n",
        "t = \"ahbgdc\"\n",
        "i = 0\n",
        "j = 0\n",
        "while i<len(s) and j<len(t):\n",
        "    if s[i]==t[j]:\n",
        "        i = i+1\n",
        "    j=j+1\n",
        "print(i==len(s))\n",
        "\n",
        "        \n",
        "        "
      ]
    },
    {
      "cell_type": "markdown",
      "metadata": {},
      "source": [
        "# LeetCode#167 Two Sum II"
      ]
    },
    {
      "cell_type": "markdown",
      "metadata": {},
      "source": [
        "Given a 1-indexed array of integers numbers that is already sorted in non-decreasing order, find two numbers such that they add up to a specific target number. Let these two numbers be numbers[index1] and numbers[index2] where 1 <= index1 < index2 <= numbers.length.\n",
        "\n",
        "Return the indices of the two numbers, index1 and index2, added by one as an integer array [index1, index2] of length 2.\n",
        "\n",
        "The tests are generated such that there is exactly one solution. You may not use the same element twice.\n",
        "\n",
        "Your solution must use only constant extra space.\n",
        "\n",
        " \n",
        "\n",
        "Example 1:\n",
        "\n",
        "Input: numbers = [2,7,11,15], target = 9\n",
        "Output: [1,2]\n",
        "Explanation: The sum of 2 and 7 is 9. Therefore, index1 = 1, index2 = 2. We return [1, 2]."
      ]
    },
    {
      "cell_type": "code",
      "execution_count": null,
      "metadata": {},
      "outputs": [],
      "source": [
        "numbers = [2,7,11,15]\n",
        "target = 9\n",
        "left = 0\n",
        "right = len(numbers)-1\n",
        "\n",
        "\n",
        "while left<right:\n",
        "    current_sum = numbers[left]+numbers[right]\n",
        "    if current_sum==target:\n",
        "        print([left,right])\n",
        "    elif current_sum<target:\n",
        "        left=left+1\n",
        "    else:\n",
        "        right=right-1"
      ]
    },
    {
      "cell_type": "markdown",
      "metadata": {},
      "source": [
        "# LeetCode#11 Container with most water"
      ]
    },
    {
      "cell_type": "markdown",
      "metadata": {},
      "source": [
        "You are given an integer array height of length n. There are n vertical lines drawn such that the two endpoints of the ith line are (i, 0) and (i, height[i]).\n",
        "\n",
        "Find two lines that together with the x-axis form a container, such that the container contains the most water.\n",
        "\n",
        "Return the maximum amount of water a container can store.\n",
        "\n",
        "Notice that you may not slant the container."
      ]
    },
    {
      "cell_type": "markdown",
      "metadata": {},
      "source": [
        "Input: height = [1,8,6,2,5,4,8,3,7]\n",
        "Output: 49\n",
        "Explanation: The above vertical lines are represented by array [1,8,6,2,5,4,8,3,7]. In this case, the max area of water (blue section) the container can contain is 49."
      ]
    },
    {
      "cell_type": "code",
      "execution_count": 6,
      "metadata": {},
      "outputs": [
        {
          "name": "stdout",
          "output_type": "stream",
          "text": [
            "49\n"
          ]
        }
      ],
      "source": [
        "height = [1,8,6,2,5,4,8,3,7]\n",
        "\n",
        "area = 0\n",
        "left,right = 0,len(height)-1\n",
        "while left<right:\n",
        "    w = right-left\n",
        "    h = min(height[left],height[right])\n",
        "    area = max(area,w * h)\n",
        "    if height[left]<height[right]:\n",
        "        left+=1\n",
        "    else:\n",
        "        right-=1\n",
        "print(area)"
      ]
    },
    {
      "cell_type": "markdown",
      "metadata": {},
      "source": [
        "# LeetCode#15 3Sum"
      ]
    },
    {
      "cell_type": "markdown",
      "metadata": {},
      "source": [
        "Given an integer array nums, return all the triplets [nums[i], nums[j], nums[k]] such that i != j, i != k, and j != k, and nums[i] + nums[j] + nums[k] == 0.\n",
        "\n"
      ]
    },
    {
      "cell_type": "code",
      "execution_count": 3,
      "metadata": {},
      "outputs": [
        {
          "name": "stdout",
          "output_type": "stream",
          "text": [
            "[[-1, -1, 2], [-1, 0, 1], [0, -1, 1]]\n"
          ]
        }
      ],
      "source": [
        "nums = [-1,0,1,2,-1,-4]\n",
        "n=len(nums)\n",
        "nums.sort()\n",
        "current_sum=0\n",
        "res = []\n",
        "for item in range(n-2):\n",
        "    if item>0 and nums[item]==nums[item-1]:\n",
        "        continue\n",
        "    left=1\n",
        "    right=n-1\n",
        "    while left<right:\n",
        "        current_sum=nums[item]+nums[left]+nums[right]\n",
        "        if current_sum<0:\n",
        "            left+=1\n",
        "        elif current_sum>0:\n",
        "            right-=1\n",
        "        else:\n",
        "            res.append([nums[item],nums[left],nums[right]])\n",
        "            while left<right and nums[left]==nums[left+1]:\n",
        "                left = left+1\n",
        "            while left<right and nums[right]==nums[right-1]:\n",
        "                right = right-1\n",
        "            \n",
        "            left=left+1\n",
        "            right=right-1\n",
        "print(res)        "
      ]
    },
    {
      "cell_type": "markdown",
      "metadata": {},
      "source": [
        "# LeetCode#209 minimum size subarray sum"
      ]
    },
    {
      "cell_type": "markdown",
      "metadata": {},
      "source": [
        "Given an array of positive integers nums and a positive integer target, return the minimal length of a \n",
        "subarray\n",
        " whose sum is greater than or equal to target. If there is no such subarray, return 0 instead.\n",
        "\n",
        " \n",
        "\n",
        "Example 1:\n",
        "\n",
        "Input: target = 7, nums = [2,3,1,2,4,3]\n",
        "Output: 2\n",
        "Explanation: The subarray [4,3] has the minimal length under the problem constraint."
      ]
    },
    {
      "cell_type": "code",
      "execution_count": 5,
      "metadata": {},
      "outputs": [
        {
          "name": "stdout",
          "output_type": "stream",
          "text": [
            "2\n"
          ]
        }
      ],
      "source": [
        "nums = [2,3,1,2,4,3]\n",
        "target = 7\n",
        "n=len(nums)\n",
        "left=0\n",
        "right=0\n",
        "current_sum= 0\n",
        "min_len=float(\"inf\")\n",
        "\n",
        "while right<n:\n",
        "    current_sum=current_sum+nums[right]\n",
        "    right=right+1\n",
        "    \n",
        "    while current_sum>=target:\n",
        "        min_len=min(min_len,right-left)\n",
        "        current_sum=current_sum-nums[left]\n",
        "        left=left+1\n",
        "        \n",
        "print(min_len if min_len != float('inf') else 0)\n",
        "    \n",
        "    "
      ]
    },
    {
      "cell_type": "code",
      "execution_count": 9,
      "metadata": {},
      "outputs": [
        {
          "name": "stdout",
          "output_type": "stream",
          "text": [
            "2\n"
          ]
        }
      ],
      "source": [
        "nums = [2,3,1,2,4,3]\n",
        "target = 7\n",
        "n=len(nums)\n",
        "min_len=float(\"inf\")\n",
        "left=0\n",
        "curr_sum=0\n",
        "\n",
        "for right in range(n):\n",
        "    curr_sum=curr_sum+nums[right]\n",
        "    \n",
        "    while curr_sum >= target:\n",
        "        min_len=min(min_len,right-left+1)\n",
        "        curr_sum= curr_sum-nums[left]\n",
        "        left = left+1\n",
        "    \n",
        "print(min_len if min_len!=float('inf') else 0)\n",
        "        "
      ]
    },
    {
      "cell_type": "markdown",
      "metadata": {},
      "source": [
        "# LeetCode#3 Longest Substring without repeating chars"
      ]
    },
    {
      "cell_type": "markdown",
      "metadata": {},
      "source": [
        "Given a string s, find the length of the longest \n",
        "substring\n",
        " without repeating characters.\n",
        "\n",
        " \n",
        "\n",
        "Example 1:\n",
        "\n",
        "Input: s = \"abcabcbb\"\n",
        "Output: 3\n",
        "Explanation: The answer is \"abc\", with the length of 3.\n"
      ]
    },
    {
      "cell_type": "code",
      "execution_count": 11,
      "metadata": {},
      "outputs": [],
      "source": [
        "s = \"abcabcbb\"\n",
        "occurrence = []\n",
        "for item in s:\n",
        "    if item not in occurrence:\n",
        "        occurrence.append(item)\n",
        "    else:\n",
        "        \n",
        "        "
      ]
    },
    {
      "cell_type": "markdown",
      "metadata": {},
      "source": [
        "# LeetCode#151 Reverse the words in the string"
      ]
    },
    {
      "cell_type": "markdown",
      "metadata": {},
      "source": [
        "Given an input string s, reverse the order of the words.\n",
        "\n",
        "A word is defined as a sequence of non-space characters. The words in s will be separated by at least one space.\n",
        "\n",
        "Return a string of the words in reverse order concatenated by a single space.\n",
        "\n",
        "Note that s may contain leading or trailing spaces or multiple spaces between two words. The returned string should only have a single space separating the words. Do not include any extra spaces."
      ]
    },
    {
      "cell_type": "code",
      "execution_count": 28,
      "metadata": {},
      "outputs": [
        {
          "data": {
            "text/plain": [
              "'the sky is blue '"
            ]
          },
          "execution_count": 28,
          "metadata": {},
          "output_type": "execute_result"
        }
      ],
      "source": [
        "s = \"the sky is blue \"\n",
        "s.split()\n",
        "word[::-1]\n",
        "\"\".join(s)\n",
        "s"
      ]
    },
    {
      "cell_type": "markdown",
      "metadata": {},
      "source": [
        "# LeetCode#383 Ransom Note "
      ]
    },
    {
      "cell_type": "markdown",
      "metadata": {},
      "source": [
        "Given two strings ransomNote and magazine, return true if ransomNote can be constructed by using the letters from magazine and false otherwise.\n",
        "\n",
        "Each letter in magazine can only be used once in ransomNote."
      ]
    },
    {
      "cell_type": "code",
      "execution_count": 38,
      "metadata": {},
      "outputs": [
        {
          "ename": "TypeError",
          "evalue": "unsupported operand type(s) for -: 'str' and 'str'",
          "output_type": "error",
          "traceback": [
            "\u001b[0;31m---------------------------------------------------------------------------\u001b[0m",
            "\u001b[0;31mTypeError\u001b[0m                                 Traceback (most recent call last)",
            "Cell \u001b[0;32mIn[38], line 4\u001b[0m\n\u001b[1;32m      1\u001b[0m ransomNote \u001b[38;5;241m=\u001b[39m \u001b[38;5;124m\"\u001b[39m\u001b[38;5;124ma\u001b[39m\u001b[38;5;124m\"\u001b[39m\n\u001b[1;32m      2\u001b[0m magazine \u001b[38;5;241m=\u001b[39m \u001b[38;5;124m\"\u001b[39m\u001b[38;5;124mb\u001b[39m\u001b[38;5;124m\"\u001b[39m\n\u001b[0;32m----> 4\u001b[0m \u001b[38;5;28mset\u001b[39m \u001b[38;5;241m=\u001b[39m \u001b[43mransomNote\u001b[49m\u001b[38;5;241;43m-\u001b[39;49m\u001b[43mmagazine\u001b[49m\n",
            "\u001b[0;31mTypeError\u001b[0m: unsupported operand type(s) for -: 'str' and 'str'"
          ]
        }
      ],
      "source": [
        "ransomNote = \"a\"\n",
        "magazine = \"b\"\n",
        "\n",
        "set = ransomNote-magazine"
      ]
    },
    {
      "cell_type": "code",
      "execution_count": null,
      "metadata": {},
      "outputs": [],
      "source": []
    }
  ],
  "metadata": {
    "colab": {
      "provenance": []
    },
    "kernelspec": {
      "display_name": "Python 3",
      "name": "python3"
    },
    "language_info": {
      "codemirror_mode": {
        "name": "ipython",
        "version": 3
      },
      "file_extension": ".py",
      "mimetype": "text/x-python",
      "name": "python",
      "nbconvert_exporter": "python",
      "pygments_lexer": "ipython3",
      "version": "3.9.6"
    }
  },
  "nbformat": 4,
  "nbformat_minor": 0
}
