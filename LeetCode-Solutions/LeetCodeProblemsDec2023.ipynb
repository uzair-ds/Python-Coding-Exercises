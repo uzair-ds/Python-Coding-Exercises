{
 "cells": [
  {
   "cell_type": "markdown",
   "id": "c26f2475-3457-49ba-a176-a78b551b8416",
   "metadata": {},
   "source": [
    "#### Problem# Given two sorted arrays nums1 and nums2 of size m and n respectively, return the median of the two sorted arrays. The overall run time complexity should be O(log (m+n))."
   ]
  },
  {
   "cell_type": "code",
   "execution_count": null,
   "id": "a9835f09",
   "metadata": {},
   "outputs": [],
   "source": [
    "import time"
   ]
  },
  {
   "cell_type": "code",
   "execution_count": null,
   "id": "a5377642",
   "metadata": {},
   "outputs": [],
   "source": [
    "nums1 = [1,2]\n",
    "nums2 = [3,4]\n",
    "m = len(nums1)\n",
    "n = len(nums2)"
   ]
  },
  {
   "cell_type": "code",
   "execution_count": null,
   "id": "d3e55262",
   "metadata": {},
   "outputs": [],
   "source": [
    "def findMedianSortedArrays(nums1, nums2):\n",
    "    \"\"\"\n",
    "    :type nums1: List[int]\n",
    "    :type nums2: List[int]\n",
    "    :rtype: float\n",
    "    \"\"\"\n",
    "    merged = nums1 + nums2\n",
    "    merged.sort()\n",
    "    n = len(merged)\n",
    "    if n%2==0:\n",
    "        y1 = float(merged[(n//2)-1])\n",
    "        y2 = float(merged[n//2])\n",
    "        med = float((y1+y2)/2)\n",
    "        return med\n",
    "    else:\n",
    "        return merged[n//2]"
   ]
  },
  {
   "cell_type": "markdown",
   "id": "29a867c7",
   "metadata": {},
   "source": [
    "#### LeetCode#15 Given an integer array nums, return all the triplets [nums[i], nums[j], nums[k]] such that i != j, i != k, and j != k, and nums[i] + nums[j] + nums[k] == 0. Notice that the solution set must not contain duplicate triplets."
   ]
  },
  {
   "cell_type": "code",
   "execution_count": null,
   "id": "ad5cdd95",
   "metadata": {},
   "outputs": [],
   "source": [
    "def get_distinct_triplets(nums):\n",
    "    nums.sort()\n",
    "    res = []\n",
    "    for i in range(len(nums)):\n",
    "        for j in range(i + 1, len(nums)):\n",
    "            for k in range(j + 1, len(nums)):\n",
    "                if nums[i] + nums[j] + nums[k] == 0 & (i!=j!=k):\n",
    "                    res.append([nums[i],nums[j],nums[k]])\n",
    "    res = [tuple(item) for item in res]\n",
    "    res = set(res)\n",
    "    res = [list(item) for item in list(res)] \n",
    "    return res                   "
   ]
  },
  {
   "cell_type": "code",
   "execution_count": 50,
   "id": "3113ed87",
   "metadata": {},
   "outputs": [],
   "source": [
    "def three_sum(arr):\n",
    "    n = len(arr) \n",
    "    res =[]\n",
    "    arr.sort()\n",
    "    for i in range(n-2):\n",
    "        if i>0 and arr[i]==arr[i-1]:\n",
    "            continue\n",
    "        left = i+1\n",
    "        right = n-1\n",
    "        while left<right:\n",
    "            total = arr[i] + arr[left] + arr[right]\n",
    "            if total < 0:\n",
    "                left = left+1            \n",
    "            elif total > 0:\n",
    "                right = right-1\n",
    "            else:\n",
    "                res.append([arr[i],arr[left],arr[right]])\n",
    "                while left<right and arr[left] == arr[left+1]:\n",
    "                    left = left+1\n",
    "                while left<right and arr[right] == arr[right-1]:\n",
    "                    right = right-1\n",
    "                left = left + 1\n",
    "                right = right - 1\n",
    "    return res"
   ]
  },
  {
   "cell_type": "code",
   "execution_count": 51,
   "id": "46489176",
   "metadata": {},
   "outputs": [
    {
     "data": {
      "text/plain": [
       "[[-1, -1, 2], [-1, 0, 1]]"
      ]
     },
     "execution_count": 51,
     "metadata": {},
     "output_type": "execute_result"
    }
   ],
   "source": [
    "three_sum([-1,0,1,2,-1,-4])"
   ]
  },
  {
   "cell_type": "code",
   "execution_count": 52,
   "id": "f67ea157-b858-4881-91e4-9945d4cf9d79",
   "metadata": {},
   "outputs": [
    {
     "data": {
      "text/plain": [
       "[[-5, 1, 4],\n",
       " [-3, -1, 4],\n",
       " [-3, 0, 3],\n",
       " [-2, -1, 3],\n",
       " [-2, 1, 1],\n",
       " [-1, 0, 1],\n",
       " [0, 0, 0]]"
      ]
     },
     "execution_count": 52,
     "metadata": {},
     "output_type": "execute_result"
    }
   ],
   "source": [
    "three_sum([-2,0,3,-1,4,0,3,4,1,1,1,-3,-5,4,0])"
   ]
  },
  {
   "cell_type": "markdown",
   "id": "dedc9355-628b-44f5-bede-f66b03d1e1cf",
   "metadata": {},
   "source": [
    "#### LeetCode#16  Given an integer array nums of length n and an integer target, find three integers in nums such that the sum is closest to target."
   ]
  },
  {
   "cell_type": "code",
   "execution_count": 3,
   "id": "8e6500ca-f4f4-4ecb-928d-7ece3d7e2c1d",
   "metadata": {},
   "outputs": [],
   "source": [
    "t1 = [-1,2,1,-4]"
   ]
  },
  {
   "cell_type": "code",
   "execution_count": 115,
   "id": "91dd9f51-9fe2-400b-95e4-47515f29b842",
   "metadata": {},
   "outputs": [],
   "source": [
    "def get_closet_sum(nums, target):\n",
    "    nums.sort() \n",
    "    n = len(nums)\n",
    "    closest_sum = float('inf')\n",
    "    min_diff = float('inf')  \n",
    "    for i in range(n - 2):\n",
    "        left = i + 1\n",
    "        right = n - 1\n",
    "\n",
    "        while left < right:\n",
    "            current_sum = nums[i] + nums[left] + nums[right]\n",
    "            current_diff = abs(current_sum - target)\n",
    "\n",
    "            if current_diff < min_diff:\n",
    "                min_diff = current_diff\n",
    "                closest_sum = current_sum\n",
    "\n",
    "            if current_sum < target:\n",
    "                left = left + 1\n",
    "            else:\n",
    "                right = right - 1\n",
    "\n",
    "    return closest_sum"
   ]
  },
  {
   "cell_type": "code",
   "execution_count": 48,
   "id": "7775349d-955f-46c6-97c6-e16ce3b31e45",
   "metadata": {},
   "outputs": [
    {
     "data": {
      "text/plain": [
       "2"
      ]
     },
     "execution_count": 48,
     "metadata": {},
     "output_type": "execute_result"
    }
   ],
   "source": [
    "get_closet_sum(nums=t1,target=1)"
   ]
  },
  {
   "cell_type": "markdown",
   "id": "609a75b2-2158-4de5-b3cf-a2ac7eaac251",
   "metadata": {},
   "source": [
    "#### LeetCode#17 Given a string containing digits from 2-9 inclusive, return all possible letter combinations that the number could represent. Return the answer in any order.A mapping of digits to letters (just like on the telephone buttons) is given below. Note that 1 does not map to any letters."
   ]
  },
  {
   "cell_type": "markdown",
   "id": "48dfab90-d032-47f3-b1be-800b12429d99",
   "metadata": {},
   "source": [
    "#### BackTracking Problem"
   ]
  },
  {
   "cell_type": "code",
   "execution_count": 74,
   "id": "f7ccd793-0d00-488e-af69-42afa643d245",
   "metadata": {},
   "outputs": [
    {
     "name": "stdout",
     "output_type": "stream",
     "text": [
      "['ad', 'ae', 'af', 'bd', 'be', 'bf', 'cd', 'ce', 'cf']\n"
     ]
    }
   ],
   "source": [
    "phone_map = {\n",
    "    \"2\" :\"abc\", \n",
    "    \"3\": \"def\",\n",
    "    \"4\": \"ghi\",\n",
    "    \"5\": \"jkl\", \n",
    "    \"6\": \"mno\", \n",
    "    \"7\" : \"pqrs\",\n",
    "    \"8\" : \"tuv\",\n",
    "    \"9\" : \"wxyz\" }\n",
    "\n",
    "digits = \"23\"\n",
    "res = []\n",
    "first = phone_map[digits[0]]\n",
    "for some in first:\n",
    "    for item in phone_map[digits[1:]]:\n",
    "        res.append(some+item)\n",
    "\n",
    "print(res)        "
   ]
  },
  {
   "cell_type": "code",
   "execution_count": 103,
   "id": "93560598-90d2-424f-b974-012e72f14da4",
   "metadata": {},
   "outputs": [],
   "source": [
    "def letterCombinations(digits: str):\n",
    "    phone_map = {\n",
    "        \"2\" :\"abc\", \n",
    "        \"3\": \"def\",\n",
    "        \"4\": \"ghi\",\n",
    "        \"5\": \"jkl\", \n",
    "        \"6\": \"mno\", \n",
    "        \"7\" : \"pqrs\",\n",
    "        \"8\" : \"tuv\",\n",
    "        \"9\" : \"wxyz\" }\n",
    "    res = []\n",
    "    digits = str(digits)\n",
    "    if digits == \"\":\n",
    "        return []\n",
    "    first = phone_map[str(digits[0])]\n",
    "    for some in first:\n",
    "        for item in phone_map[digits[1:]]:\n",
    "            res.append(some+item)\n",
    "    return res"
   ]
  },
  {
   "cell_type": "code",
   "execution_count": 104,
   "id": "bf5db435-aac4-4b1d-84da-92a8114aa551",
   "metadata": {},
   "outputs": [
    {
     "data": {
      "text/plain": [
       "['ad', 'ae', 'af', 'bd', 'be', 'bf', 'cd', 'ce', 'cf']"
      ]
     },
     "execution_count": 104,
     "metadata": {},
     "output_type": "execute_result"
    }
   ],
   "source": [
    "letterCombinations(\"23\")"
   ]
  },
  {
   "cell_type": "code",
   "execution_count": 101,
   "id": "fbf1074c-b3d4-4b25-b675-19e82b1e4b3c",
   "metadata": {},
   "outputs": [],
   "source": [
    "class Solution(object):\n",
    "    def letterCombinations(self, digits):\n",
    "        \"\"\"\n",
    "        :type digits: str\n",
    "        :rtype: List[str]\n",
    "        \"\"\"\n",
    "        if not digits:\n",
    "            return []\n",
    "\n",
    "        phone_map = {\n",
    "            \"2\": \"abc\",\n",
    "            \"3\": \"def\",\n",
    "            \"4\": \"ghi\",\n",
    "            \"5\": \"jkl\",\n",
    "            \"6\": \"mno\",\n",
    "            \"7\": \"pqrs\",\n",
    "            \"8\": \"tuv\",\n",
    "            \"9\": \"wxyz\"\n",
    "        }\n",
    "\n",
    "        def generate_combinations(index, current_combination):\n",
    "            if index == len(digits):\n",
    "                res.append(current_combination)\n",
    "                return\n",
    "\n",
    "            for letter in phone_map[digits[index]]:\n",
    "                generate_combinations(index + 1, current_combination + letter)\n",
    "\n",
    "        res = []\n",
    "        generate_combinations(0, \"\")\n",
    "        return res"
   ]
  },
  {
   "cell_type": "markdown",
   "id": "3574d9e4-f35e-4de5-abaa-009b08219fea",
   "metadata": {},
   "source": [
    "#### LeetCode#18 Given an array nums of n integers, return an array of all the unique quadruplets [nums[a], nums[b], nums[c], nums[d]] such that:\n",
    "#### 0 <=a, b, c, d < n\n",
    "#### a, b, c, and d are distinct.\n",
    "#### nums[a] + nums[b] + nums[c] + nums[d] == target\n",
    "#### You may return the answer in any order."
   ]
  },
  {
   "cell_type": "code",
   "execution_count": 109,
   "id": "af82f168-f658-4562-8ab3-887a2cccf8e3",
   "metadata": {},
   "outputs": [],
   "source": [
    "arr = [1,0,-1,0,-2,2] \n",
    "target = 0"
   ]
  },
  {
   "cell_type": "code",
   "execution_count": 116,
   "id": "6cae2179-0bf5-4669-be0f-9809d4f917dc",
   "metadata": {},
   "outputs": [],
   "source": [
    "res = []\n",
    "arr.sort()\n",
    "n = len(arr)"
   ]
  },
  {
   "cell_type": "code",
   "execution_count": 117,
   "id": "a7d0243d-f969-48d4-8571-6b81ac311bbf",
   "metadata": {},
   "outputs": [
    {
     "data": {
      "text/plain": [
       "[-2, -1, 0, 0, 1, 2]"
      ]
     },
     "execution_count": 117,
     "metadata": {},
     "output_type": "execute_result"
    }
   ],
   "source": [
    "arr"
   ]
  },
  {
   "cell_type": "code",
   "execution_count": 120,
   "id": "1d31d845-ec7a-4ab2-a8b4-e9df0bc5384a",
   "metadata": {},
   "outputs": [],
   "source": [
    "def fourSum(nums, target):\n",
    "    nums.sort()  \n",
    "    n = len(nums)\n",
    "    quadruplets = []\n",
    "    for a in range(n - 3):\n",
    "        if a > 0 and nums[a] == nums[a - 1]: \n",
    "            continue\n",
    "        for b in range(a + 1, n - 2):\n",
    "            if b > a + 1 and nums[b] == nums[b - 1]: \n",
    "                continue\n",
    "            left = b + 1\n",
    "            right = n - 1\n",
    "            while left < right:\n",
    "                quad_sum = nums[a] + nums[b] + nums[left] + nums[right]\n",
    "                if quad_sum == target:\n",
    "                    quadruplets.append([nums[a], nums[b], nums[left], nums[right]])\n",
    "                    while left < right and nums[left] == nums[left + 1]:  \n",
    "                        left = left + 1\n",
    "                    while left < right and nums[right] == nums[right - 1]:  \n",
    "                        right = right - 1\n",
    "                    left = left + 1\n",
    "                    right =right - 1\n",
    "                elif quad_sum < target:\n",
    "                    left = left + 1\n",
    "                else:\n",
    "                    right = right - 1\n",
    "    return quadruplets"
   ]
  },
  {
   "cell_type": "markdown",
   "id": "05795b92-ab06-4696-a9b1-e0516c12fc5d",
   "metadata": {},
   "source": [
    "#### LeetCode#20 Given a string s containing just the characters '(', ')', '{', '}', '[' and ']', determine if the input string is valid.\n",
    "An input string is valid if:\n",
    "\n",
    "Open brackets must be closed by the same type of brackets.\n",
    "\n",
    "Open brackets must be closed in the correct order.\n",
    "\n",
    "Every close bracket has a corresponding open bracket of the same type.\n"
   ]
  },
  {
   "cell_type": "code",
   "execution_count": 169,
   "id": "3dd39a60-6d09-4e0c-9955-80f242ca34a5",
   "metadata": {},
   "outputs": [],
   "source": [
    "t = \"()\"\n",
    "ts0 = \"}{\"\n",
    "ts2 = \"()[]{}\"\n",
    "ts3 = \"(]\" "
   ]
  },
  {
   "cell_type": "code",
   "execution_count": 184,
   "id": "8297743c-9c59-4846-9a00-a90e55f1db06",
   "metadata": {},
   "outputs": [],
   "source": [
    "def isValid(s):\n",
    "    \"\"\"\n",
    "    :type s: str\n",
    "    :rtype: bool\n",
    "    \"\"\"\n",
    "    stack = []\n",
    "    bracket_pairs = {')': '(', '}': '{', ']': '['}\n",
    "    \n",
    "    for char in s:\n",
    "        if char in '({[':\n",
    "            stack.append(char)\n",
    "        elif char in ')}]':\n",
    "            if not stack or stack[-1] != bracket_pairs[char]:\n",
    "                return False\n",
    "            stack.pop()\n",
    "    return len(stack)==0    "
   ]
  },
  {
   "cell_type": "code",
   "execution_count": 183,
   "id": "9c7db26e-0d08-447e-8512-d894c349f53c",
   "metadata": {},
   "outputs": [
    {
     "data": {
      "text/plain": [
       "[]"
      ]
     },
     "execution_count": 183,
     "metadata": {},
     "output_type": "execute_result"
    }
   ],
   "source": []
  },
  {
   "cell_type": "code",
   "execution_count": null,
   "id": "288c0885-53b4-497a-91d9-ab38f231e42f",
   "metadata": {},
   "outputs": [],
   "source": [
    "  "
   ]
  },
  {
   "cell_type": "code",
   "execution_count": null,
   "id": "37401aef-75d2-4e81-a6e9-cad16d31203b",
   "metadata": {},
   "outputs": [],
   "source": []
  },
  {
   "cell_type": "code",
   "execution_count": null,
   "id": "b04d4792-4b6b-467f-a374-f310d35ace42",
   "metadata": {},
   "outputs": [],
   "source": []
  }
 ],
 "metadata": {
  "kernelspec": {
   "display_name": "Python 3 (ipykernel)",
   "language": "python",
   "name": "python3"
  },
  "language_info": {
   "codemirror_mode": {
    "name": "ipython",
    "version": 3
   },
   "file_extension": ".py",
   "mimetype": "text/x-python",
   "name": "python",
   "nbconvert_exporter": "python",
   "pygments_lexer": "ipython3",
   "version": "3.9.6"
  },
  "widgets": {
   "application/vnd.jupyter.widget-state+json": {
    "state": {},
    "version_major": 2,
    "version_minor": 0
   }
  }
 },
 "nbformat": 4,
 "nbformat_minor": 5
}
